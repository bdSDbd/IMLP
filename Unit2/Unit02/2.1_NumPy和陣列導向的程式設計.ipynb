{
 "cells": [
  {
   "cell_type": "markdown",
   "metadata": {},
   "source": [
    "# NumPy 和陣列導向的程式設計\n",
    "\n",
    "`NumPy` 可以說是 Python 中最最標準的科學計算、數據分析套件。也因為 `NumPy` 的出現, 讓 Python 有了非常好的數據分析基礎, 一直到現在成為數據分析覇主。"
   ]
  },
  {
   "cell_type": "code",
   "execution_count": 1,
   "metadata": {
    "ExecuteTime": {
     "end_time": "2023-05-19T01:02:13.726620400Z",
     "start_time": "2023-05-19T01:02:13.441359500Z"
    }
   },
   "outputs": [],
   "source": [
    "import  numpy as np\n",
    "\n",
    "grades = [77, 85, 56, 90, 66]"
   ]
  },
  {
   "cell_type": "markdown",
   "metadata": {},
   "source": [
    "## 1. 陣列導向 101\n",
    "\n",
    "科學計算一個很核心的概念叫 \"array oriented\" 的寫法。Array 是 `numpy` 標準的資料結構, 和 list 很像, 但就差了那麼一點點。而這一點點讓我們在計算上是無比的方便。"
   ]
  },
  {
   "cell_type": "markdown",
   "metadata": {},
   "source": [
    "### 【暖身】 計算平均\n",
    "\n",
    "某位同學期中考各科成績如下, 請幫他計算成績。\n",
    "\n",
    "    grades = [77, 85, 56, 90, 66]\n",
    "    \n",
    "請計算平均。"
   ]
  },
  {
   "cell_type": "code",
   "execution_count": 6,
   "metadata": {
    "ExecuteTime": {
     "end_time": "2023-05-19T00:32:56.213787100Z",
     "start_time": "2023-05-19T00:32:55.999489600Z"
    }
   },
   "outputs": [
    {
     "name": "stdout",
     "output_type": "stream",
     "text": [
      "Average = 74.8\n",
      "Sum = 374\n"
     ]
    }
   ],
   "source": [
    "sumGrades = 0\n",
    "\n",
    "for i in grades:\n",
    "      sumGrades = sumGrades + i\n",
    "\n",
    "print(f\"Average = {sumGrades / len(grades)}\\n\"\n",
    "      f\"Sum = {sumGrades}\")"
   ]
  },
  {
   "cell_type": "markdown",
   "metadata": {},
   "source": [
    "### 【示範】陣列導向"
   ]
  },
  {
   "cell_type": "markdown",
   "source": [
    "平均值"
   ],
   "metadata": {
    "collapsed": false
   }
  },
  {
   "cell_type": "code",
   "execution_count": 7,
   "metadata": {
    "ExecuteTime": {
     "end_time": "2023-05-19T00:32:56.218648700Z",
     "start_time": "2023-05-19T00:32:56.048448500Z"
    }
   },
   "outputs": [
    {
     "name": "stdout",
     "output_type": "stream",
     "text": [
      "Average =  74.80\n"
     ]
    }
   ],
   "source": [
    "print(f\"Average = {np.average(grades) : .2f}\")"
   ]
  },
  {
   "cell_type": "markdown",
   "metadata": {},
   "source": [
    "最大值"
   ]
  },
  {
   "cell_type": "code",
   "execution_count": 8,
   "metadata": {
    "ExecuteTime": {
     "end_time": "2023-05-19T00:32:56.221703700Z",
     "start_time": "2023-05-19T00:32:56.071420200Z"
    }
   },
   "outputs": [
    {
     "name": "stdout",
     "output_type": "stream",
     "text": [
      "Maximum = 90\n"
     ]
    }
   ],
   "source": [
    "print(f\"Maximum = {np.max(grades)}\")"
   ]
  },
  {
   "cell_type": "markdown",
   "metadata": {},
   "source": [
    "標準差"
   ]
  },
  {
   "cell_type": "code",
   "execution_count": 9,
   "metadata": {
    "ExecuteTime": {
     "end_time": "2023-05-19T00:32:56.223636100Z",
     "start_time": "2023-05-19T00:32:56.098536800Z"
    }
   },
   "outputs": [
    {
     "name": "stdout",
     "output_type": "stream",
     "text": [
      "Std =  12.42\n"
     ]
    }
   ],
   "source": [
    "print(f\"Std = {np.std(grades) : .2f}\")"
   ]
  },
  {
   "cell_type": "markdown",
   "metadata": {},
   "source": [
    "### 【暖身】 換算匯率\n",
    "\n",
    "假設今天我想查查號稱 Pentax 三公主的 31mm, 43mm, 77mm 三隻 limited 鏡頭在美國賣多少。於是我去 B&H 查了他們的價格分別是:\n",
    "\n",
    "    prices = [1096.95, 596.95, 896.95]\n",
    "    \n",
    "我又查了 Google 匯率 1 美金為 31.71 元。請把三支鏡頭的價格換算為台幣。"
   ]
  },
  {
   "cell_type": "code",
   "execution_count": 14,
   "metadata": {
    "collapsed": true,
    "ExecuteTime": {
     "end_time": "2023-05-19T00:43:43.191635100Z",
     "start_time": "2023-05-19T00:43:43.178630500Z"
    }
   },
   "outputs": [
    {
     "name": "stdout",
     "output_type": "stream",
     "text": [
      "換算後價格: 34784.28 \n",
      "換算後價格: 18929.28 \n",
      "換算後價格: 28442.28 \n"
     ]
    }
   ],
   "source": [
    "prices = [1096.95, 596.95, 896.95]\n",
    "rate = 31.71\n",
    "for price in prices:\n",
    "      price = price * rate\n",
    "      print(f\"換算後價格:{price : .2f}\")\n",
    "\n"
   ]
  },
  {
   "cell_type": "markdown",
   "metadata": {},
   "source": [
    "先不管這實在有夠醜的數字, 我們要記得在科學計算中:\n",
    "\n",
    "### 儘可能不要使用迴圈\n",
    "\n",
    "這可能嗎?"
   ]
  },
  {
   "cell_type": "markdown",
   "metadata": {},
   "source": [
    "### 【示範】陣列換算匯率"
   ]
  },
  {
   "cell_type": "code",
   "execution_count": 24,
   "metadata": {
    "ExecuteTime": {
     "end_time": "2023-05-19T00:48:21.392518600Z",
     "start_time": "2023-05-19T00:48:21.380681800Z"
    }
   },
   "outputs": [
    {
     "name": "stdout",
     "output_type": "stream",
     "text": [
      "transPrise = [34784.2845 18929.2845 28442.2845]\n"
     ]
    }
   ],
   "source": [
    "import numpy as np\n",
    "\n",
    "prices = [1096.95, 596.95, 896.95]\n",
    "rate = 31.71\n",
    "transPrise = np.array(prices) * rate\n",
    "\n",
    "print(f\"transPrise = {transPrise}\")\n"
   ]
  },
  {
   "cell_type": "markdown",
   "metadata": {},
   "source": [
    "哦哦, 傑克, 這太神奇了!"
   ]
  },
  {
   "cell_type": "markdown",
   "metadata": {},
   "source": [
    "## 2. 其實 array 還有很多功能\n",
    "\n",
    "### 【練習】 成績計算\n",
    "\n",
    "一位老師成績這樣算的:\n",
    "\n",
    "* 平時成績 20%\n",
    "* 期中考   35%\n",
    "* 期未考   45%\n",
    "\n",
    "有位同學\n",
    "\n",
    "* 平時成績 85 分\n",
    "* 期中 70 分\n",
    "* 期末 80 分\n",
    "\n",
    "這位同學的學期成績是多少?"
   ]
  },
  {
   "cell_type": "code",
   "execution_count": 30,
   "metadata": {
    "ExecuteTime": {
     "end_time": "2023-05-19T00:52:04.718601800Z",
     "start_time": "2023-05-19T00:52:04.703915400Z"
    }
   },
   "outputs": [],
   "source": [
    "import numpy as np\n",
    "\n",
    "grades = np.array([85,70,80])\n",
    "weights = np.array([0.2, 0.35, 0.45])\n"
   ]
  },
  {
   "cell_type": "markdown",
   "metadata": {},
   "source": [
    "這還不是我們要的最終成績啊!"
   ]
  },
  {
   "cell_type": "code",
   "execution_count": 31,
   "metadata": {
    "ExecuteTime": {
     "end_time": "2023-05-19T00:52:09.921781200Z",
     "start_time": "2023-05-19T00:52:09.909125900Z"
    }
   },
   "outputs": [
    {
     "name": "stdout",
     "output_type": "stream",
     "text": [
      "TotalGrades = [17.  24.5 36. ]\n"
     ]
    }
   ],
   "source": [
    "totalGrades = grades * weights\n",
    "print(f\"TotalGrades = {totalGrades}\")\n"
   ]
  },
  {
   "cell_type": "markdown",
   "metadata": {},
   "source": [
    "### 【提示】 array 還有很多函數可以用\n",
    "\n",
    "可以先打入\n",
    "\n",
    "    weighted_grades.\n",
    "    \n",
    "先不要按 `enter` 或 `shift-enter`, 而是按 `tab`...\n"
   ]
  },
  {
   "cell_type": "code",
   "execution_count": 32,
   "metadata": {
    "ExecuteTime": {
     "end_time": "2023-05-19T00:52:13.422395200Z",
     "start_time": "2023-05-19T00:52:13.410426900Z"
    }
   },
   "outputs": [
    {
     "data": {
      "text/plain": "77.5"
     },
     "execution_count": 32,
     "metadata": {},
     "output_type": "execute_result"
    }
   ],
   "source": [
    "weighted_grades = grades * weights\n",
    "weighted_grades.sum()"
   ]
  },
  {
   "cell_type": "markdown",
   "metadata": {},
   "source": [
    "### 【技巧】 一行完成成績計算"
   ]
  },
  {
   "cell_type": "code",
   "execution_count": 33,
   "metadata": {
    "ExecuteTime": {
     "end_time": "2023-05-19T00:52:15.899495800Z",
     "start_time": "2023-05-19T00:52:15.885613Z"
    }
   },
   "outputs": [
    {
     "data": {
      "text/plain": "77.5"
     },
     "execution_count": 33,
     "metadata": {},
     "output_type": "execute_result"
    }
   ],
   "source": [
    "np.dot(grades, weights)"
   ]
  },
  {
   "cell_type": "markdown",
   "metadata": {},
   "source": [
    "## 3. 重要的 array 大變身!\n",
    "\n",
    "我們在數據分析, 常常要改 array 的型式。"
   ]
  },
  {
   "cell_type": "markdown",
   "metadata": {},
   "source": [
    "### 【練習】 一個 50 個數字的 array\n",
    "\n",
    "先想辦法、用亂數做出 50 個數字的 array, 叫做 A 好了。"
   ]
  },
  {
   "cell_type": "code",
   "execution_count": 34,
   "metadata": {
    "ExecuteTime": {
     "end_time": "2023-05-19T00:52:50.580175500Z",
     "start_time": "2023-05-19T00:52:50.558914300Z"
    }
   },
   "outputs": [
    {
     "data": {
      "text/plain": "array([0.77248528, 0.26429187, 0.90890183, 0.07123407, 0.71476568,\n       0.1532658 , 0.20354031, 0.34851289, 0.07239259, 0.62470283,\n       0.6753985 , 0.57177966, 0.01943344, 0.14071499, 0.61118263,\n       0.28311465, 0.08485181, 0.55637099, 0.84864922, 0.97294162,\n       0.92043874, 0.53314325, 0.64902402, 0.51817469, 0.74589377,\n       0.56571036, 0.81885441, 0.53350038, 0.23775082, 0.66727578,\n       0.8517999 , 0.39815346, 0.30334831, 0.53162134, 0.73194952,\n       0.37583802, 0.71700107, 0.98024857, 0.55084755, 0.1879298 ,\n       0.9797039 , 0.39295582, 0.2999426 , 0.1588368 , 0.47015232,\n       0.99610434, 0.85561173, 0.20621058, 0.96527901, 0.02023145])"
     },
     "execution_count": 34,
     "metadata": {},
     "output_type": "execute_result"
    }
   ],
   "source": [
    "A = np.random.rand(50)\n",
    "A"
   ]
  },
  {
   "cell_type": "markdown",
   "metadata": {},
   "source": [
    "### 【技巧】 檢查 A 的 `shape`"
   ]
  },
  {
   "cell_type": "code",
   "execution_count": 37,
   "metadata": {
    "ExecuteTime": {
     "end_time": "2023-05-19T00:54:21.360786200Z",
     "start_time": "2023-05-19T00:54:21.337505800Z"
    }
   },
   "outputs": [
    {
     "data": {
      "text/plain": "(50,)"
     },
     "execution_count": 37,
     "metadata": {},
     "output_type": "execute_result"
    }
   ],
   "source": [
    "A.shape"
   ]
  },
  {
   "cell_type": "markdown",
   "metadata": {},
   "source": [
    "### 【技巧】 更改 A 的 shape"
   ]
  },
  {
   "cell_type": "code",
   "execution_count": 51,
   "metadata": {
    "ExecuteTime": {
     "end_time": "2023-05-19T00:57:56.944925500Z",
     "start_time": "2023-05-19T00:57:56.917998400Z"
    }
   },
   "outputs": [
    {
     "data": {
      "text/plain": "array([[0.77248528, 0.26429187, 0.90890183, 0.07123407, 0.71476568,\n        0.1532658 , 0.20354031, 0.34851289, 0.07239259, 0.62470283],\n       [0.6753985 , 0.57177966, 0.01943344, 0.14071499, 0.61118263,\n        0.28311465, 0.08485181, 0.55637099, 0.84864922, 0.97294162],\n       [0.92043874, 0.53314325, 0.64902402, 0.51817469, 0.74589377,\n        0.56571036, 0.81885441, 0.53350038, 0.23775082, 0.66727578],\n       [0.8517999 , 0.39815346, 0.30334831, 0.53162134, 0.73194952,\n        0.37583802, 0.71700107, 0.98024857, 0.55084755, 0.1879298 ],\n       [0.9797039 , 0.39295582, 0.2999426 , 0.1588368 , 0.47015232,\n        0.99610434, 0.85561173, 0.20621058, 0.96527901, 0.02023145]])"
     },
     "execution_count": 51,
     "metadata": {},
     "output_type": "execute_result"
    }
   ],
   "source": [
    "A.shape = (5, 10)\n",
    "A"
   ]
  },
  {
   "cell_type": "markdown",
   "metadata": {},
   "source": [
    "### 【技巧】 也可以用 `reshape`\n",
    "\n",
    "但要注意, reshape 並沒有改原來的陣列。"
   ]
  },
  {
   "cell_type": "code",
   "execution_count": 52,
   "metadata": {
    "ExecuteTime": {
     "end_time": "2023-05-19T00:57:57.865663100Z",
     "start_time": "2023-05-19T00:57:57.849991700Z"
    }
   },
   "outputs": [
    {
     "data": {
      "text/plain": "array([[0.77248528, 0.26429187, 0.90890183, 0.07123407, 0.71476568],\n       [0.1532658 , 0.20354031, 0.34851289, 0.07239259, 0.62470283],\n       [0.6753985 , 0.57177966, 0.01943344, 0.14071499, 0.61118263],\n       [0.28311465, 0.08485181, 0.55637099, 0.84864922, 0.97294162],\n       [0.92043874, 0.53314325, 0.64902402, 0.51817469, 0.74589377],\n       [0.56571036, 0.81885441, 0.53350038, 0.23775082, 0.66727578],\n       [0.8517999 , 0.39815346, 0.30334831, 0.53162134, 0.73194952],\n       [0.37583802, 0.71700107, 0.98024857, 0.55084755, 0.1879298 ],\n       [0.9797039 , 0.39295582, 0.2999426 , 0.1588368 , 0.47015232],\n       [0.99610434, 0.85561173, 0.20621058, 0.96527901, 0.02023145]])"
     },
     "execution_count": 52,
     "metadata": {},
     "output_type": "execute_result"
    }
   ],
   "source": [
    "A.reshape(10, 5)"
   ]
  },
  {
   "cell_type": "markdown",
   "metadata": {},
   "source": [
    "### 【技巧】 拉平 `ravel`\n",
    "\n",
    "雖然你想一想就知道可以用 `shape` 或 `reshape` 把多維陣列拉成一維。不過用 `ravel` 很潮。"
   ]
  },
  {
   "cell_type": "code",
   "execution_count": 54,
   "metadata": {
    "ExecuteTime": {
     "end_time": "2023-05-19T00:58:08.376393200Z",
     "start_time": "2023-05-19T00:58:08.353408200Z"
    }
   },
   "outputs": [
    {
     "data": {
      "text/plain": "array([0.77248528, 0.26429187, 0.90890183, 0.07123407, 0.71476568,\n       0.1532658 , 0.20354031, 0.34851289, 0.07239259, 0.62470283,\n       0.6753985 , 0.57177966, 0.01943344, 0.14071499, 0.61118263,\n       0.28311465, 0.08485181, 0.55637099, 0.84864922, 0.97294162,\n       0.92043874, 0.53314325, 0.64902402, 0.51817469, 0.74589377,\n       0.56571036, 0.81885441, 0.53350038, 0.23775082, 0.66727578,\n       0.8517999 , 0.39815346, 0.30334831, 0.53162134, 0.73194952,\n       0.37583802, 0.71700107, 0.98024857, 0.55084755, 0.1879298 ,\n       0.9797039 , 0.39295582, 0.2999426 , 0.1588368 , 0.47015232,\n       0.99610434, 0.85561173, 0.20621058, 0.96527901, 0.02023145])"
     },
     "execution_count": 54,
     "metadata": {},
     "output_type": "execute_result"
    }
   ],
   "source": [
    "A.ravel()"
   ]
  },
  {
   "cell_type": "markdown",
   "metadata": {},
   "source": [
    "## 4. 快速 array 生成法"
   ]
  },
  {
   "cell_type": "markdown",
   "metadata": {},
   "source": [
    "### 【技巧】 都是 0 的 array"
   ]
  },
  {
   "cell_type": "code",
   "execution_count": 59,
   "metadata": {
    "ExecuteTime": {
     "end_time": "2023-05-19T00:59:25.038049300Z",
     "start_time": "2023-05-19T00:59:25.025083Z"
    }
   },
   "outputs": [
    {
     "data": {
      "text/plain": "array([[0., 0., 0., 0., 0., 0., 0., 0., 0., 0.],\n       [0., 0., 0., 0., 0., 0., 0., 0., 0., 0.],\n       [0., 0., 0., 0., 0., 0., 0., 0., 0., 0.],\n       [0., 0., 0., 0., 0., 0., 0., 0., 0., 0.],\n       [0., 0., 0., 0., 0., 0., 0., 0., 0., 0.],\n       [0., 0., 0., 0., 0., 0., 0., 0., 0., 0.],\n       [0., 0., 0., 0., 0., 0., 0., 0., 0., 0.],\n       [0., 0., 0., 0., 0., 0., 0., 0., 0., 0.],\n       [0., 0., 0., 0., 0., 0., 0., 0., 0., 0.],\n       [0., 0., 0., 0., 0., 0., 0., 0., 0., 0.]])"
     },
     "execution_count": 59,
     "metadata": {},
     "output_type": "execute_result"
    }
   ],
   "source": [
    "np.zeros((10, 10))"
   ]
  },
  {
   "cell_type": "markdown",
   "metadata": {},
   "source": [
    "### 【技巧】 都是 1 的 array"
   ]
  },
  {
   "cell_type": "code",
   "execution_count": 60,
   "metadata": {
    "ExecuteTime": {
     "end_time": "2023-05-19T00:59:57.648346800Z",
     "start_time": "2023-05-19T00:59:57.630395100Z"
    }
   },
   "outputs": [
    {
     "data": {
      "text/plain": "array([[1., 1., 1., 1., 1., 1., 1., 1., 1., 1.],\n       [1., 1., 1., 1., 1., 1., 1., 1., 1., 1.],\n       [1., 1., 1., 1., 1., 1., 1., 1., 1., 1.],\n       [1., 1., 1., 1., 1., 1., 1., 1., 1., 1.],\n       [1., 1., 1., 1., 1., 1., 1., 1., 1., 1.],\n       [1., 1., 1., 1., 1., 1., 1., 1., 1., 1.],\n       [1., 1., 1., 1., 1., 1., 1., 1., 1., 1.],\n       [1., 1., 1., 1., 1., 1., 1., 1., 1., 1.],\n       [1., 1., 1., 1., 1., 1., 1., 1., 1., 1.],\n       [1., 1., 1., 1., 1., 1., 1., 1., 1., 1.]])"
     },
     "execution_count": 60,
     "metadata": {},
     "output_type": "execute_result"
    }
   ],
   "source": [
    "np.ones((10, 10))"
   ]
  },
  {
   "cell_type": "markdown",
   "metadata": {},
   "source": [
    "### 【技巧】單位矩陣"
   ]
  },
  {
   "cell_type": "code",
   "execution_count": 61,
   "metadata": {
    "ExecuteTime": {
     "end_time": "2023-05-19T01:00:27.034946600Z",
     "start_time": "2023-05-19T01:00:27.011115900Z"
    }
   },
   "outputs": [
    {
     "data": {
      "text/plain": "array([[1., 0., 0., 0., 0.],\n       [0., 1., 0., 0., 0.],\n       [0., 0., 1., 0., 0.],\n       [0., 0., 0., 1., 0.],\n       [0., 0., 0., 0., 1.]])"
     },
     "execution_count": 61,
     "metadata": {},
     "output_type": "execute_result"
    }
   ],
   "source": [
    "np.eye(5)"
   ]
  },
  {
   "cell_type": "markdown",
   "metadata": {},
   "source": [
    "### 【技巧】給定範圍均勻生出 n 個點"
   ]
  },
  {
   "cell_type": "code",
   "execution_count": 3,
   "metadata": {
    "ExecuteTime": {
     "end_time": "2023-05-19T01:02:45.804424700Z",
     "start_time": "2023-05-19T01:02:45.785474400Z"
    }
   },
   "outputs": [
    {
     "data": {
      "text/plain": "array([ 0. ,  2.5,  5. ,  7.5, 10. ])"
     },
     "execution_count": 3,
     "metadata": {},
     "output_type": "execute_result"
    }
   ],
   "source": [
    "np.linspace(0, 10, 5) #0~10，平均生成5個點"
   ]
  },
  {
   "cell_type": "markdown",
   "metadata": {},
   "source": [
    "### 【技巧】`range` 的 array 版\n",
    "\n",
    "就是 `arange`。"
   ]
  },
  {
   "cell_type": "code",
   "execution_count": 6,
   "metadata": {
    "ExecuteTime": {
     "end_time": "2023-05-19T01:03:30.140020300Z",
     "start_time": "2023-05-19T01:03:30.116567200Z"
    }
   },
   "outputs": [
    {
     "data": {
      "text/plain": "array([1, 4, 7])"
     },
     "execution_count": 6,
     "metadata": {},
     "output_type": "execute_result"
    }
   ],
   "source": [
    "np.arange(1, 10, 3)"
   ]
  },
  {
   "cell_type": "markdown",
   "metadata": {},
   "source": [
    "## 5. 超重要 `axis` 觀念\n",
    "\n",
    "初學 `numpy` 很多人有點弄不清楚 `axis` 概念。其實掌握矩陣, 或很像矩陣的陣列都是「先列後行」就可以!\n",
    "\n",
    "我們先弄個 array 來練習。"
   ]
  },
  {
   "cell_type": "code",
   "execution_count": 8,
   "metadata": {
    "ExecuteTime": {
     "end_time": "2023-05-19T01:04:15.839516900Z",
     "start_time": "2023-05-19T01:04:15.823961800Z"
    }
   },
   "outputs": [
    {
     "data": {
      "text/plain": "array([[0, 1, 2, 3, 4],\n       [5, 6, 7, 8, 9]])"
     },
     "execution_count": 8,
     "metadata": {},
     "output_type": "execute_result"
    }
   ],
   "source": [
    "A = np.arange(10).reshape(2, 5)\n",
    "A"
   ]
  },
  {
   "cell_type": "markdown",
   "metadata": {},
   "source": [
    "### 【重點】 一列一列算下來是 `axis=0`"
   ]
  },
  {
   "cell_type": "markdown",
   "metadata": {},
   "source": [
    "![axis=0](images/axis0.png)"
   ]
  },
  {
   "cell_type": "code",
   "execution_count": 12,
   "metadata": {
    "ExecuteTime": {
     "end_time": "2023-05-19T01:05:29.756295400Z",
     "start_time": "2023-05-19T01:05:29.743285100Z"
    }
   },
   "outputs": [
    {
     "data": {
      "text/plain": "array([ 5,  7,  9, 11, 13])"
     },
     "execution_count": 12,
     "metadata": {},
     "output_type": "execute_result"
    }
   ],
   "source": [
    "A.sum(axis = 0)"
   ]
  },
  {
   "cell_type": "markdown",
   "metadata": {},
   "source": [
    "### 【重點】 一行一行算過去是 `axis=1`\n",
    "\n",
    "![axis=1](images/axis1.png)"
   ]
  },
  {
   "cell_type": "code",
   "execution_count": 13,
   "metadata": {
    "ExecuteTime": {
     "end_time": "2023-05-19T01:05:32.253587700Z",
     "start_time": "2023-05-19T01:05:32.238236600Z"
    }
   },
   "outputs": [
    {
     "data": {
      "text/plain": "array([10, 35])"
     },
     "execution_count": 13,
     "metadata": {},
     "output_type": "execute_result"
    }
   ],
   "source": [
    "A.sum(axis = 1)"
   ]
  },
  {
   "cell_type": "markdown",
   "metadata": {},
   "source": [
    "### 【提示】當然也有可能全部算"
   ]
  },
  {
   "cell_type": "code",
   "execution_count": 14,
   "metadata": {
    "ExecuteTime": {
     "end_time": "2023-05-19T01:05:49.326936700Z",
     "start_time": "2023-05-19T01:05:49.314980300Z"
    }
   },
   "outputs": [
    {
     "data": {
      "text/plain": "45"
     },
     "execution_count": 14,
     "metadata": {},
     "output_type": "execute_result"
    }
   ],
   "source": [
    "A.sum()"
   ]
  },
  {
   "cell_type": "markdown",
   "metadata": {},
   "source": [
    "## 6. array 過濾器\n",
    "\n",
    "篩出我們要的資料, 這樣的技巧非常重要!"
   ]
  },
  {
   "cell_type": "markdown",
   "metadata": {},
   "source": [
    "### 【例子】篩出大於 0 的數\n",
    "\n",
    "我們有個陣列, 想找出大於 0 的數。<br>\n",
    "L = np.array([3, -2, -1, 5, 7, -3])"
   ]
  },
  {
   "cell_type": "code",
   "execution_count": 16,
   "metadata": {
    "ExecuteTime": {
     "end_time": "2023-05-19T01:07:16.721375100Z",
     "start_time": "2023-05-19T01:07:16.699430600Z"
    }
   },
   "outputs": [],
   "source": [
    "L = np.array([3, -2, -1, 5, 7, -3])"
   ]
  },
  {
   "cell_type": "markdown",
   "metadata": {},
   "source": [
    "我們可以很白痴的自己判斷...<br>\n",
    "c = np.array([True,False,False,True,True,False])"
   ]
  },
  {
   "cell_type": "code",
   "execution_count": 17,
   "metadata": {
    "ExecuteTime": {
     "end_time": "2023-05-19T01:07:17.632086Z",
     "start_time": "2023-05-19T01:07:17.610203200Z"
    }
   },
   "outputs": [],
   "source": [
    "c = np.array([True,False,False,True,True,False])"
   ]
  },
  {
   "cell_type": "markdown",
   "metadata": {},
   "source": [
    "這是做啥呢? 我們可以瞬間..."
   ]
  },
  {
   "cell_type": "code",
   "execution_count": 18,
   "metadata": {
    "ExecuteTime": {
     "end_time": "2023-05-19T01:07:18.447095200Z",
     "start_time": "2023-05-19T01:07:18.427061900Z"
    }
   },
   "outputs": [
    {
     "data": {
      "text/plain": "array([3, 5, 7])"
     },
     "execution_count": 18,
     "metadata": {},
     "output_type": "execute_result"
    }
   ],
   "source": [
    "L[c]"
   ]
  },
  {
   "cell_type": "markdown",
   "metadata": {},
   "source": [
    "除了自己做很白痴, 這看來很厲害!"
   ]
  },
  {
   "cell_type": "markdown",
   "metadata": {},
   "source": [
    "事實上我們可以叫 `numpy` 做!"
   ]
  },
  {
   "cell_type": "code",
   "execution_count": 19,
   "metadata": {
    "ExecuteTime": {
     "end_time": "2023-05-19T01:07:41.295330700Z",
     "start_time": "2023-05-19T01:07:41.278290700Z"
    }
   },
   "outputs": [
    {
     "data": {
      "text/plain": "array([ True, False, False,  True,  True, False])"
     },
     "execution_count": 19,
     "metadata": {},
     "output_type": "execute_result"
    }
   ],
   "source": [
    "L > 0"
   ]
  },
  {
   "cell_type": "markdown",
   "metadata": {},
   "source": [
    "這有點強, 我們還可以一次到位!"
   ]
  },
  {
   "cell_type": "code",
   "execution_count": 22,
   "metadata": {
    "scrolled": true,
    "ExecuteTime": {
     "end_time": "2023-05-19T01:09:14.208188800Z",
     "start_time": "2023-05-19T01:09:14.185240200Z"
    }
   },
   "outputs": [
    {
     "data": {
      "text/plain": "array([3, 5, 7])"
     },
     "execution_count": 22,
     "metadata": {},
     "output_type": "execute_result"
    }
   ],
   "source": [
    "L[L > 0]\n"
   ]
  },
  {
   "cell_type": "markdown",
   "metadata": {},
   "source": [
    "## 7. 次元切割刀\n",
    "\n",
    "`numpy` 中 array 的切割法和 list 很像。"
   ]
  },
  {
   "cell_type": "code",
   "execution_count": 23,
   "metadata": {
    "ExecuteTime": {
     "end_time": "2023-05-19T01:10:13.035172500Z",
     "start_time": "2023-05-19T01:10:13.021205800Z"
    }
   },
   "outputs": [
    {
     "data": {
      "text/plain": "array([0, 1, 2, 3, 4, 5, 6, 7, 8, 9])"
     },
     "execution_count": 23,
     "metadata": {},
     "output_type": "execute_result"
    }
   ],
   "source": [
    "x = np.arange(10)\n",
    "x"
   ]
  },
  {
   "cell_type": "code",
   "execution_count": 24,
   "outputs": [
    {
     "data": {
      "text/plain": "array([3, 4, 5, 6])"
     },
     "execution_count": 24,
     "metadata": {},
     "output_type": "execute_result"
    }
   ],
   "source": [
    "x[3 : 7]"
   ],
   "metadata": {
    "collapsed": false,
    "ExecuteTime": {
     "end_time": "2023-05-19T01:11:35.072027400Z",
     "start_time": "2023-05-19T01:11:35.055439200Z"
    }
   }
  },
  {
   "cell_type": "markdown",
   "metadata": {},
   "source": [
    "### 【技巧】2維陣列切法\n",
    "\n",
    "記得先列後行!"
   ]
  },
  {
   "cell_type": "code",
   "execution_count": 29,
   "metadata": {
    "ExecuteTime": {
     "end_time": "2023-05-19T01:12:26.472880200Z",
     "start_time": "2023-05-19T01:12:26.448967500Z"
    }
   },
   "outputs": [
    {
     "data": {
      "text/plain": "array([[0, 1, 2, 3, 4],\n       [5, 6, 7, 8, 9]])"
     },
     "execution_count": 29,
     "metadata": {},
     "output_type": "execute_result"
    }
   ],
   "source": [
    "x.shape = (2, 5)\n",
    "x"
   ]
  },
  {
   "cell_type": "markdown",
   "metadata": {},
   "source": [
    "要所有的row, 切出行 1-3 位置。"
   ]
  },
  {
   "cell_type": "code",
   "execution_count": 30,
   "metadata": {
    "ExecuteTime": {
     "end_time": "2023-05-19T01:12:56.820041800Z",
     "start_time": "2023-05-19T01:12:56.807114700Z"
    }
   },
   "outputs": [
    {
     "data": {
      "text/plain": "array([[1, 2],\n       [6, 7]])"
     },
     "execution_count": 30,
     "metadata": {},
     "output_type": "execute_result"
    }
   ],
   "source": [
    "x[:, 1 : 3]"
   ]
  },
  {
   "cell_type": "markdown",
   "metadata": {},
   "source": [
    "要所有的行col, 切出第 1 列row!"
   ]
  },
  {
   "cell_type": "code",
   "execution_count": 37,
   "metadata": {
    "ExecuteTime": {
     "end_time": "2023-05-19T01:14:58.632513Z",
     "start_time": "2023-05-19T01:14:58.614550700Z"
    }
   },
   "outputs": [
    {
     "data": {
      "text/plain": "array([5, 6, 7, 8, 9])"
     },
     "execution_count": 37,
     "metadata": {},
     "output_type": "execute_result"
    }
   ],
   "source": [
    "x[1 , :]"
   ]
  },
  {
   "cell_type": "markdown",
   "metadata": {},
   "source": [
    "## 8. `NumPy` 的 `zip` 和 `unzip`"
   ]
  },
  {
   "cell_type": "markdown",
   "source": [
    "之前我們介紹 list 可以用 `zip` 和 `unzip` (其實還是 `zip`) 做到的資料格式變換, 在 array 中怎麼做呢?\n",
    "\n",
    "![zip and unzip](images/zip.png)"
   ],
   "metadata": {
    "collapsed": false
   }
  },
  {
   "cell_type": "markdown",
   "metadata": {},
   "source": [
    "### 【重點】array 的 `zip`\n",
    "\n",
    "![array zip](images/arrzip.png)"
   ]
  },
  {
   "cell_type": "code",
   "execution_count": 38,
   "metadata": {
    "ExecuteTime": {
     "end_time": "2023-05-19T01:16:02.766470100Z",
     "start_time": "2023-05-19T01:16:02.750000800Z"
    }
   },
   "outputs": [],
   "source": [
    "x = np.array([1,2,3,4])\n",
    "y = np.array([5,6,7,8])"
   ]
  },
  {
   "cell_type": "code",
   "execution_count": 40,
   "metadata": {
    "ExecuteTime": {
     "end_time": "2023-05-19T01:16:07.666694500Z",
     "start_time": "2023-05-19T01:16:07.649177400Z"
    }
   },
   "outputs": [
    {
     "data": {
      "text/plain": "array([[1, 5],\n       [2, 6],\n       [3, 7],\n       [4, 8]])"
     },
     "execution_count": 40,
     "metadata": {},
     "output_type": "execute_result"
    }
   ],
   "source": [
    "X = np.c_[x, y]\n",
    "X"
   ]
  },
  {
   "cell_type": "code",
   "execution_count": 43,
   "metadata": {
    "ExecuteTime": {
     "end_time": "2023-05-19T01:18:05.811195900Z",
     "start_time": "2023-05-19T01:18:05.770256400Z"
    }
   },
   "outputs": [
    {
     "data": {
      "text/plain": "array([1, 2, 3, 4, 5, 6, 7, 8])"
     },
     "execution_count": 43,
     "metadata": {},
     "output_type": "execute_result"
    }
   ],
   "source": [
    "Y = np.r_[x, y]\n",
    "Y"
   ]
  },
  {
   "cell_type": "markdown",
   "metadata": {},
   "source": [
    "### 【重點】array 的 `unzip`\n",
    "\n",
    "這裡其實只需要用到 array 的切割法...\n",
    "\n",
    "![array zip](images/arrunzip.png)"
   ]
  },
  {
   "cell_type": "code",
   "execution_count": 44,
   "metadata": {
    "collapsed": true,
    "ExecuteTime": {
     "end_time": "2023-05-19T01:31:03.394907800Z",
     "start_time": "2023-05-19T01:31:03.384827200Z"
    }
   },
   "outputs": [
    {
     "data": {
      "text/plain": "array([1, 2, 3, 4])"
     },
     "execution_count": 44,
     "metadata": {},
     "output_type": "execute_result"
    }
   ],
   "source": [
    "X[:, 0]"
   ]
  },
  {
   "cell_type": "code",
   "execution_count": 45,
   "outputs": [
    {
     "data": {
      "text/plain": "array([5, 6, 7, 8])"
     },
     "execution_count": 45,
     "metadata": {},
     "output_type": "execute_result"
    }
   ],
   "source": [
    "X[:, 1]"
   ],
   "metadata": {
    "collapsed": false,
    "ExecuteTime": {
     "end_time": "2023-05-19T01:31:18.589855400Z",
     "start_time": "2023-05-19T01:31:18.570722Z"
    }
   }
  }
 ],
 "metadata": {
  "kernelspec": {
   "display_name": "Python 3",
   "language": "python",
   "name": "python3"
  },
  "language_info": {
   "codemirror_mode": {
    "name": "ipython",
    "version": 3
   },
   "file_extension": ".py",
   "mimetype": "text/x-python",
   "name": "python",
   "nbconvert_exporter": "python",
   "pygments_lexer": "ipython3",
   "version": "3.8.8"
  }
 },
 "nbformat": 4,
 "nbformat_minor": 2
}
