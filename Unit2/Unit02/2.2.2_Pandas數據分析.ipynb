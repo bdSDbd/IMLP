{
 "cells": [
  {
   "cell_type": "markdown",
   "metadata": {},
   "source": [
    "# Pandas數據分析\n",
    "\n",
    "今天介紹資料分析近來很紅的 pandas 套件, 作者是 Wes McKinney。Python 會成為一個數據分析的熱門語言, 和 pandas 的出現也有相當的關係。\n",
    "\n",
    "但是 pandas 雖然功能強, 但有些地方沒那麼直覺, 有時會讓大家以為是個深奧的套件。其實你大約可以把 pandas 想成「Python 的 Excel」, 但是功能更強、更有彈性、也有更多的可能性。\n",
    "\n",
    "下面介紹個基本上就是把 pandas 當 Excel 學的影片, 相信大家會覺得很親切。<br>\n",
    "https://youtu.be/9d5-Ti6onew"
   ]
  },
  {
   "cell_type": "code",
   "execution_count": 14,
   "metadata": {
    "ExecuteTime": {
     "end_time": "2023-05-19T07:07:08.155997100Z",
     "start_time": "2023-05-19T07:07:08.145026100Z"
    }
   },
   "outputs": [],
   "source": [
    "import pandas as pd\n",
    "import matplotlib.pyplot as plt\n",
    "import numpy as np\n"
   ]
  },
  {
   "cell_type": "markdown",
   "metadata": {},
   "source": [
    "## 1 開始使用 `pandas`\n",
    "\n",
    "首先我們來讀入一個 CSV 檔, 這裡有個「假的」學測成績, 叫 `grades.csv` 我們來練習一下。"
   ]
  },
  {
   "cell_type": "code",
   "execution_count": 2,
   "metadata": {
    "ExecuteTime": {
     "end_time": "2023-05-19T05:27:37.758959Z",
     "start_time": "2023-05-19T05:27:37.730993500Z"
    }
   },
   "outputs": [],
   "source": [
    "df = pd.read_csv(\"data/grades.csv\")\n"
   ]
  },
  {
   "cell_type": "markdown",
   "metadata": {},
   "source": [
    "用 `df` 是標準的叫法 (雖然這名稱我們隨便取也可以), 意思是 Data Frame, 這是 `pandas` 兩大資料結構之一。我們可以把 Data Frame 想成一張表格 (雖然其實可以是很多張表格)。\n",
    "\n",
    "我們來看看我們 `df` 的前五筆資料。"
   ]
  },
  {
   "cell_type": "code",
   "execution_count": 3,
   "metadata": {
    "ExecuteTime": {
     "end_time": "2023-05-19T05:27:43.327930Z",
     "start_time": "2023-05-19T05:27:43.250955500Z"
    }
   },
   "outputs": [
    {
     "data": {
      "text/plain": "pandas.core.frame.DataFrame"
     },
     "execution_count": 3,
     "metadata": {},
     "output_type": "execute_result"
    }
   ],
   "source": [
    "type(df)"
   ]
  },
  {
   "cell_type": "code",
   "execution_count": 90,
   "metadata": {
    "ExecuteTime": {
     "end_time": "2023-05-19T02:21:24.426138600Z",
     "start_time": "2023-05-19T02:21:23.487003900Z"
    }
   },
   "outputs": [
    {
     "data": {
      "text/plain": "    姓名  國文  英文  數學  自然  社會\n0  劉俊安   9  10  15  10  13\n1  胡玉華  10  10  10   8   9\n2  黃淑婷  13  15   8  11  14\n3  陳上紫  10  10   8   9  14\n4  崔靜成  13  12  14  12  13",
      "text/html": "<div>\n<style scoped>\n    .dataframe tbody tr th:only-of-type {\n        vertical-align: middle;\n    }\n\n    .dataframe tbody tr th {\n        vertical-align: top;\n    }\n\n    .dataframe thead th {\n        text-align: right;\n    }\n</style>\n<table border=\"1\" class=\"dataframe\">\n  <thead>\n    <tr style=\"text-align: right;\">\n      <th></th>\n      <th>姓名</th>\n      <th>國文</th>\n      <th>英文</th>\n      <th>數學</th>\n      <th>自然</th>\n      <th>社會</th>\n    </tr>\n  </thead>\n  <tbody>\n    <tr>\n      <th>0</th>\n      <td>劉俊安</td>\n      <td>9</td>\n      <td>10</td>\n      <td>15</td>\n      <td>10</td>\n      <td>13</td>\n    </tr>\n    <tr>\n      <th>1</th>\n      <td>胡玉華</td>\n      <td>10</td>\n      <td>10</td>\n      <td>10</td>\n      <td>8</td>\n      <td>9</td>\n    </tr>\n    <tr>\n      <th>2</th>\n      <td>黃淑婷</td>\n      <td>13</td>\n      <td>15</td>\n      <td>8</td>\n      <td>11</td>\n      <td>14</td>\n    </tr>\n    <tr>\n      <th>3</th>\n      <td>陳上紫</td>\n      <td>10</td>\n      <td>10</td>\n      <td>8</td>\n      <td>9</td>\n      <td>14</td>\n    </tr>\n    <tr>\n      <th>4</th>\n      <td>崔靜成</td>\n      <td>13</td>\n      <td>12</td>\n      <td>14</td>\n      <td>12</td>\n      <td>13</td>\n    </tr>\n  </tbody>\n</table>\n</div>"
     },
     "execution_count": 90,
     "metadata": {},
     "output_type": "execute_result"
    }
   ],
   "source": [
    "df.head()"
   ]
  },
  {
   "cell_type": "markdown",
   "metadata": {},
   "source": [
    "如果你曾經手動讀入 CSV 檔, 就知道這省了多少事 (雖然我個人還挺喜歡純手動帶進 CSV)。"
   ]
  },
  {
   "cell_type": "markdown",
   "metadata": {},
   "source": [
    "#### Excel 檔也可以快速讀入\n",
    "\n",
    "不只 CSV 檔, 很多資料檔案, 像 Excel 檔都很容易在 `pandas` 完成。使用法是這樣:\n",
    "\n",
    "    df2 = pd.read_excel('filename.xls', 'sheetname')\n",
    "    \n",
    "其中 sheetname 那裡要放工作表的名稱, 如果是中文的最好改成英文。"
   ]
  },
  {
   "cell_type": "markdown",
   "metadata": {},
   "source": [
    "## 2 Pandas 基本資料結構\n",
    "\n",
    "Pandas 有兩個基本資料結構:\n",
    "\n",
    "* <b style=\"color:red;\">DataFrame</b>: 可以想成一個表格。\n",
    "* <b style=\"color:red;\">Series</b>: 表格的某一列、某一行, 基本上就是我們以前的 list 或 array\n",
    "\n",
    "一個 DataFrame, 我們有 `index` (列的名稱), `columns` (行的名稱)。\n",
    "\n",
    "#### DataFrame\n",
    "\n",
    "![DataFrame 的結構](images/indexcol.png)"
   ]
  },
  {
   "cell_type": "markdown",
   "metadata": {},
   "source": [
    "#### Series\n",
    "\n",
    "剛剛說 series 大概就是一個 list, 一個 array。其實更精準的說, 其實是一個有 \"index\" 的 array。\n",
    "\n",
    "DataFrame 的每一行或每一列其實也都是一個 series。我們來看個例子, 例如所有同學的國文成績, 就是一個 series。"
   ]
  },
  {
   "cell_type": "code",
   "execution_count": 91,
   "metadata": {
    "ExecuteTime": {
     "end_time": "2023-05-19T02:21:24.440127300Z",
     "start_time": "2023-05-19T02:21:23.538768900Z"
    }
   },
   "outputs": [
    {
     "data": {
      "text/plain": "0      9\n1     10\n2     13\n3     10\n4     13\n      ..\n95     9\n96     8\n97    14\n98    15\n99     9\nName: 國文, Length: 100, dtype: int64"
     },
     "execution_count": 91,
     "metadata": {},
     "output_type": "execute_result"
    }
   ],
   "source": [
    "df[\"國文\"]"
   ]
  },
  {
   "cell_type": "markdown",
   "metadata": {},
   "source": [
    "在 Python 3 中, 我們終於可以和英文同步, 用這種很炫的方式叫出所有國文成績。"
   ]
  },
  {
   "cell_type": "code",
   "execution_count": 92,
   "metadata": {
    "ExecuteTime": {
     "end_time": "2023-05-19T02:21:24.442121Z",
     "start_time": "2023-05-19T02:21:23.560711100Z"
    }
   },
   "outputs": [
    {
     "data": {
      "text/plain": "0      9\n1     10\n2     13\n3     10\n4     13\n      ..\n95     9\n96     8\n97    14\n98    15\n99     9\nName: 國文, Length: 100, dtype: int64"
     },
     "execution_count": 92,
     "metadata": {},
     "output_type": "execute_result"
    }
   ],
   "source": [
    "df.國文"
   ]
  },
  {
   "cell_type": "markdown",
   "metadata": {},
   "source": [
    "#### 資料畫出來\n",
    "\n",
    "要畫個圖很容易。"
   ]
  },
  {
   "cell_type": "code",
   "execution_count": 93,
   "metadata": {
    "ExecuteTime": {
     "end_time": "2023-05-19T02:21:24.461057100Z",
     "start_time": "2023-05-19T02:21:23.599606900Z"
    }
   },
   "outputs": [
    {
     "data": {
      "text/plain": "<AxesSubplot:>"
     },
     "execution_count": 93,
     "metadata": {},
     "output_type": "execute_result"
    },
    {
     "data": {
      "text/plain": "<Figure size 432x288 with 1 Axes>",
      "image/png": "[encoded data removed]"
     },
     "metadata": {
      "needs_background": "light"
     },
     "output_type": "display_data"
    }
   ],
   "source": [
    "df.英文.plot()"
   ]
  },
  {
   "cell_type": "markdown",
   "metadata": {},
   "source": [
    "當然, 在這個例子中, 其實畫 histogram 圖更有意義一點。"
   ]
  },
  {
   "cell_type": "code",
   "execution_count": 94,
   "metadata": {
    "ExecuteTime": {
     "end_time": "2023-05-19T02:21:24.483985600Z",
     "start_time": "2023-05-19T02:21:23.759523300Z"
    }
   },
   "outputs": [
    {
     "data": {
      "text/plain": "<AxesSubplot:>"
     },
     "execution_count": 94,
     "metadata": {},
     "output_type": "execute_result"
    },
    {
     "data": {
      "text/plain": "<Figure size 432x288 with 1 Axes>",
      "image/png": "[encoded data removed]"
     },
     "metadata": {
      "needs_background": "light"
     },
     "output_type": "display_data"
    }
   ],
   "source": [
    "df.英文.hist(bins = 15)"
   ]
  },
  {
   "cell_type": "markdown",
   "metadata": {},
   "source": [
    "## 3 一些基本的資料分析"
   ]
  },
  {
   "cell_type": "markdown",
   "metadata": {},
   "source": [
    "算平均。"
   ]
  },
  {
   "cell_type": "code",
   "execution_count": 95,
   "metadata": {
    "ExecuteTime": {
     "end_time": "2023-05-19T02:21:24.489970400Z",
     "start_time": "2023-05-19T02:21:23.935160Z"
    }
   },
   "outputs": [
    {
     "data": {
      "text/plain": "11.38"
     },
     "execution_count": 95,
     "metadata": {},
     "output_type": "execute_result"
    }
   ],
   "source": [
    "df.英文.mean()"
   ]
  },
  {
   "cell_type": "markdown",
   "metadata": {},
   "source": [
    "算標準差。"
   ]
  },
  {
   "cell_type": "code",
   "execution_count": 96,
   "metadata": {
    "ExecuteTime": {
     "end_time": "2023-05-19T02:21:24.492960700Z",
     "start_time": "2023-05-19T02:21:23.949011700Z"
    }
   },
   "outputs": [
    {
     "data": {
      "text/plain": "2.273163594480768"
     },
     "execution_count": 96,
     "metadata": {},
     "output_type": "execute_result"
    }
   ],
   "source": [
    "df.英文.std()"
   ]
  },
  {
   "cell_type": "markdown",
   "metadata": {},
   "source": [
    "不如就該算的都幫我們算算..."
   ]
  },
  {
   "cell_type": "code",
   "execution_count": 97,
   "metadata": {
    "ExecuteTime": {
     "end_time": "2023-05-19T02:21:24.496952900Z",
     "start_time": "2023-05-19T02:21:23.965737200Z"
    }
   },
   "outputs": [
    {
     "data": {
      "text/plain": "               國文          英文          數學         自然         社會\ncount  100.000000  100.000000  100.000000  100.00000  100.00000\nmean    11.390000   11.380000   11.570000   11.03000   11.83000\nstd      2.196853    2.273164    2.310516    2.21772    2.48655\nmin      8.000000    8.000000    8.000000    8.00000    8.00000\n25%      9.000000    9.000000   10.000000    9.00000    9.00000\n50%     11.000000   11.000000   11.000000   11.00000   12.00000\n75%     13.000000   13.000000   14.000000   13.00000   14.00000\nmax     15.000000   15.000000   15.000000   15.00000   15.00000",
      "text/html": "<div>\n<style scoped>\n    .dataframe tbody tr th:only-of-type {\n        vertical-align: middle;\n    }\n\n    .dataframe tbody tr th {\n        vertical-align: top;\n    }\n\n    .dataframe thead th {\n        text-align: right;\n    }\n</style>\n<table border=\"1\" class=\"dataframe\">\n  <thead>\n    <tr style=\"text-align: right;\">\n      <th></th>\n      <th>國文</th>\n      <th>英文</th>\n      <th>數學</th>\n      <th>自然</th>\n      <th>社會</th>\n    </tr>\n  </thead>\n  <tbody>\n    <tr>\n      <th>count</th>\n      <td>100.000000</td>\n      <td>100.000000</td>\n      <td>100.000000</td>\n      <td>100.00000</td>\n      <td>100.00000</td>\n    </tr>\n    <tr>\n      <th>mean</th>\n      <td>11.390000</td>\n      <td>11.380000</td>\n      <td>11.570000</td>\n      <td>11.03000</td>\n      <td>11.83000</td>\n    </tr>\n    <tr>\n      <th>std</th>\n      <td>2.196853</td>\n      <td>2.273164</td>\n      <td>2.310516</td>\n      <td>2.21772</td>\n      <td>2.48655</td>\n    </tr>\n    <tr>\n      <th>min</th>\n      <td>8.000000</td>\n      <td>8.000000</td>\n      <td>8.000000</td>\n      <td>8.00000</td>\n      <td>8.00000</td>\n    </tr>\n    <tr>\n      <th>25%</th>\n      <td>9.000000</td>\n      <td>9.000000</td>\n      <td>10.000000</td>\n      <td>9.00000</td>\n      <td>9.00000</td>\n    </tr>\n    <tr>\n      <th>50%</th>\n      <td>11.000000</td>\n      <td>11.000000</td>\n      <td>11.000000</td>\n      <td>11.00000</td>\n      <td>12.00000</td>\n    </tr>\n    <tr>\n      <th>75%</th>\n      <td>13.000000</td>\n      <td>13.000000</td>\n      <td>14.000000</td>\n      <td>13.00000</td>\n      <td>14.00000</td>\n    </tr>\n    <tr>\n      <th>max</th>\n      <td>15.000000</td>\n      <td>15.000000</td>\n      <td>15.000000</td>\n      <td>15.00000</td>\n      <td>15.00000</td>\n    </tr>\n  </tbody>\n</table>\n</div>"
     },
     "execution_count": 97,
     "metadata": {},
     "output_type": "execute_result"
    }
   ],
   "source": [
    "df.describe()"
   ]
  },
  {
   "cell_type": "markdown",
   "metadata": {},
   "source": [
    "有時我們很愛看的相關係數矩陣。"
   ]
  },
  {
   "cell_type": "code",
   "execution_count": 98,
   "metadata": {
    "ExecuteTime": {
     "end_time": "2023-05-19T02:21:24.496952900Z",
     "start_time": "2023-05-19T02:21:23.994800300Z"
    }
   },
   "outputs": [
    {
     "data": {
      "text/plain": "          國文        英文        數學        自然        社會\n國文  1.000000  0.160158 -0.310899 -0.110236 -0.028421\n英文  0.160158  1.000000  0.025656  0.113929 -0.063512\n數學 -0.310899  0.025656  1.000000  0.014371  0.041651\n自然 -0.110236  0.113929  0.014371  1.000000 -0.156594\n社會 -0.028421 -0.063512  0.041651 -0.156594  1.000000",
      "text/html": "<div>\n<style scoped>\n    .dataframe tbody tr th:only-of-type {\n        vertical-align: middle;\n    }\n\n    .dataframe tbody tr th {\n        vertical-align: top;\n    }\n\n    .dataframe thead th {\n        text-align: right;\n    }\n</style>\n<table border=\"1\" class=\"dataframe\">\n  <thead>\n    <tr style=\"text-align: right;\">\n      <th></th>\n      <th>國文</th>\n      <th>英文</th>\n      <th>數學</th>\n      <th>自然</th>\n      <th>社會</th>\n    </tr>\n  </thead>\n  <tbody>\n    <tr>\n      <th>國文</th>\n      <td>1.000000</td>\n      <td>0.160158</td>\n      <td>-0.310899</td>\n      <td>-0.110236</td>\n      <td>-0.028421</td>\n    </tr>\n    <tr>\n      <th>英文</th>\n      <td>0.160158</td>\n      <td>1.000000</td>\n      <td>0.025656</td>\n      <td>0.113929</td>\n      <td>-0.063512</td>\n    </tr>\n    <tr>\n      <th>數學</th>\n      <td>-0.310899</td>\n      <td>0.025656</td>\n      <td>1.000000</td>\n      <td>0.014371</td>\n      <td>0.041651</td>\n    </tr>\n    <tr>\n      <th>自然</th>\n      <td>-0.110236</td>\n      <td>0.113929</td>\n      <td>0.014371</td>\n      <td>1.000000</td>\n      <td>-0.156594</td>\n    </tr>\n    <tr>\n      <th>社會</th>\n      <td>-0.028421</td>\n      <td>-0.063512</td>\n      <td>0.041651</td>\n      <td>-0.156594</td>\n      <td>1.000000</td>\n    </tr>\n  </tbody>\n</table>\n</div>"
     },
     "execution_count": 98,
     "metadata": {},
     "output_type": "execute_result"
    }
   ],
   "source": [
    "df.corr()"
   ]
  },
  {
   "cell_type": "markdown",
   "metadata": {},
   "source": [
    "只算兩科間的相關係數當然也可以。"
   ]
  },
  {
   "cell_type": "code",
   "execution_count": 99,
   "metadata": {
    "ExecuteTime": {
     "end_time": "2023-05-19T02:21:24.498945700Z",
     "start_time": "2023-05-19T02:21:24.010617500Z"
    }
   },
   "outputs": [
    {
     "data": {
      "text/plain": "0.16015801596684315"
     },
     "execution_count": 99,
     "metadata": {},
     "output_type": "execute_result"
    }
   ],
   "source": [
    "df.國文.corr(df.英文)"
   ]
  },
  {
   "cell_type": "markdown",
   "metadata": {},
   "source": [
    "## 4 增加一行"
   ]
  },
  {
   "cell_type": "markdown",
   "metadata": {},
   "source": [
    "### 【技巧】\n",
    "\n",
    "我們增加一行, 加入總級分。"
   ]
  },
  {
   "cell_type": "code",
   "execution_count": 100,
   "metadata": {
    "ExecuteTime": {
     "end_time": "2023-05-19T02:21:24.500940400Z",
     "start_time": "2023-05-19T02:21:24.025577400Z"
    }
   },
   "outputs": [
    {
     "data": {
      "text/plain": "     姓名  國文  英文  數學  自然  社會  總級分\n0   劉俊安   9  10  15  10  13   57\n1   胡玉華  10  10  10   8   9   47\n2   黃淑婷  13  15   8  11  14   61\n3   陳上紫  10  10   8   9  14   51\n4   崔靜成  13  12  14  12  13   64\n..  ...  ..  ..  ..  ..  ..  ...\n95  蔡佳燕   9  10   9  13  14   55\n96  吳筱婷   8  10  14  10  15   57\n97  陳家銘  14   9  11   8  12   54\n98  李明威  15   9   8   9  15   56\n99  農揚勇   9  11  12  12  10   54\n\n[100 rows x 7 columns]",
      "text/html": "<div>\n<style scoped>\n    .dataframe tbody tr th:only-of-type {\n        vertical-align: middle;\n    }\n\n    .dataframe tbody tr th {\n        vertical-align: top;\n    }\n\n    .dataframe thead th {\n        text-align: right;\n    }\n</style>\n<table border=\"1\" class=\"dataframe\">\n  <thead>\n    <tr style=\"text-align: right;\">\n      <th></th>\n      <th>姓名</th>\n      <th>國文</th>\n      <th>英文</th>\n      <th>數學</th>\n      <th>自然</th>\n      <th>社會</th>\n      <th>總級分</th>\n    </tr>\n  </thead>\n  <tbody>\n    <tr>\n      <th>0</th>\n      <td>劉俊安</td>\n      <td>9</td>\n      <td>10</td>\n      <td>15</td>\n      <td>10</td>\n      <td>13</td>\n      <td>57</td>\n    </tr>\n    <tr>\n      <th>1</th>\n      <td>胡玉華</td>\n      <td>10</td>\n      <td>10</td>\n      <td>10</td>\n      <td>8</td>\n      <td>9</td>\n      <td>47</td>\n    </tr>\n    <tr>\n      <th>2</th>\n      <td>黃淑婷</td>\n      <td>13</td>\n      <td>15</td>\n      <td>8</td>\n      <td>11</td>\n      <td>14</td>\n      <td>61</td>\n    </tr>\n    <tr>\n      <th>3</th>\n      <td>陳上紫</td>\n      <td>10</td>\n      <td>10</td>\n      <td>8</td>\n      <td>9</td>\n      <td>14</td>\n      <td>51</td>\n    </tr>\n    <tr>\n      <th>4</th>\n      <td>崔靜成</td>\n      <td>13</td>\n      <td>12</td>\n      <td>14</td>\n      <td>12</td>\n      <td>13</td>\n      <td>64</td>\n    </tr>\n    <tr>\n      <th>...</th>\n      <td>...</td>\n      <td>...</td>\n      <td>...</td>\n      <td>...</td>\n      <td>...</td>\n      <td>...</td>\n      <td>...</td>\n    </tr>\n    <tr>\n      <th>95</th>\n      <td>蔡佳燕</td>\n      <td>9</td>\n      <td>10</td>\n      <td>9</td>\n      <td>13</td>\n      <td>14</td>\n      <td>55</td>\n    </tr>\n    <tr>\n      <th>96</th>\n      <td>吳筱婷</td>\n      <td>8</td>\n      <td>10</td>\n      <td>14</td>\n      <td>10</td>\n      <td>15</td>\n      <td>57</td>\n    </tr>\n    <tr>\n      <th>97</th>\n      <td>陳家銘</td>\n      <td>14</td>\n      <td>9</td>\n      <td>11</td>\n      <td>8</td>\n      <td>12</td>\n      <td>54</td>\n    </tr>\n    <tr>\n      <th>98</th>\n      <td>李明威</td>\n      <td>15</td>\n      <td>9</td>\n      <td>8</td>\n      <td>9</td>\n      <td>15</td>\n      <td>56</td>\n    </tr>\n    <tr>\n      <th>99</th>\n      <td>農揚勇</td>\n      <td>9</td>\n      <td>11</td>\n      <td>12</td>\n      <td>12</td>\n      <td>10</td>\n      <td>54</td>\n    </tr>\n  </tbody>\n</table>\n<p>100 rows × 7 columns</p>\n</div>"
     },
     "execution_count": 100,
     "metadata": {},
     "output_type": "execute_result"
    }
   ],
   "source": [
    "df[\"總級分\"] = df.sum(axis = 1)\n",
    "df\n"
   ]
  },
  {
   "cell_type": "markdown",
   "metadata": {},
   "source": [
    "### 【技巧】\n",
    "\n",
    "有計算的當然也可以的。"
   ]
  },
  {
   "cell_type": "code",
   "execution_count": 101,
   "metadata": {
    "ExecuteTime": {
     "end_time": "2023-05-19T02:21:24.509987300Z",
     "start_time": "2023-05-19T02:21:24.046523300Z"
    }
   },
   "outputs": [
    {
     "data": {
      "text/plain": "     姓名  國文  英文  數學  自然  社會  總級分  加權\n0   劉俊安   9  10  15  10  13   57  49\n1   胡玉華  10  10  10   8   9   47  40\n2   黃淑婷  13  15   8  11  14   61  44\n3   陳上紫  10  10   8   9  14   51  36\n4   崔靜成  13  12  14  12  13   64  53\n..  ...  ..  ..  ..  ..  ..  ...  ..\n95  蔡佳燕   9  10   9  13  14   55  37\n96  吳筱婷   8  10  14  10  15   57  46\n97  陳家銘  14   9  11   8  12   54  45\n98  李明威  15   9   8   9  15   56  40\n99  農揚勇   9  11  12  12  10   54  44\n\n[100 rows x 8 columns]",
      "text/html": "<div>\n<style scoped>\n    .dataframe tbody tr th:only-of-type {\n        vertical-align: middle;\n    }\n\n    .dataframe tbody tr th {\n        vertical-align: top;\n    }\n\n    .dataframe thead th {\n        text-align: right;\n    }\n</style>\n<table border=\"1\" class=\"dataframe\">\n  <thead>\n    <tr style=\"text-align: right;\">\n      <th></th>\n      <th>姓名</th>\n      <th>國文</th>\n      <th>英文</th>\n      <th>數學</th>\n      <th>自然</th>\n      <th>社會</th>\n      <th>總級分</th>\n      <th>加權</th>\n    </tr>\n  </thead>\n  <tbody>\n    <tr>\n      <th>0</th>\n      <td>劉俊安</td>\n      <td>9</td>\n      <td>10</td>\n      <td>15</td>\n      <td>10</td>\n      <td>13</td>\n      <td>57</td>\n      <td>49</td>\n    </tr>\n    <tr>\n      <th>1</th>\n      <td>胡玉華</td>\n      <td>10</td>\n      <td>10</td>\n      <td>10</td>\n      <td>8</td>\n      <td>9</td>\n      <td>47</td>\n      <td>40</td>\n    </tr>\n    <tr>\n      <th>2</th>\n      <td>黃淑婷</td>\n      <td>13</td>\n      <td>15</td>\n      <td>8</td>\n      <td>11</td>\n      <td>14</td>\n      <td>61</td>\n      <td>44</td>\n    </tr>\n    <tr>\n      <th>3</th>\n      <td>陳上紫</td>\n      <td>10</td>\n      <td>10</td>\n      <td>8</td>\n      <td>9</td>\n      <td>14</td>\n      <td>51</td>\n      <td>36</td>\n    </tr>\n    <tr>\n      <th>4</th>\n      <td>崔靜成</td>\n      <td>13</td>\n      <td>12</td>\n      <td>14</td>\n      <td>12</td>\n      <td>13</td>\n      <td>64</td>\n      <td>53</td>\n    </tr>\n    <tr>\n      <th>...</th>\n      <td>...</td>\n      <td>...</td>\n      <td>...</td>\n      <td>...</td>\n      <td>...</td>\n      <td>...</td>\n      <td>...</td>\n      <td>...</td>\n    </tr>\n    <tr>\n      <th>95</th>\n      <td>蔡佳燕</td>\n      <td>9</td>\n      <td>10</td>\n      <td>9</td>\n      <td>13</td>\n      <td>14</td>\n      <td>55</td>\n      <td>37</td>\n    </tr>\n    <tr>\n      <th>96</th>\n      <td>吳筱婷</td>\n      <td>8</td>\n      <td>10</td>\n      <td>14</td>\n      <td>10</td>\n      <td>15</td>\n      <td>57</td>\n      <td>46</td>\n    </tr>\n    <tr>\n      <th>97</th>\n      <td>陳家銘</td>\n      <td>14</td>\n      <td>9</td>\n      <td>11</td>\n      <td>8</td>\n      <td>12</td>\n      <td>54</td>\n      <td>45</td>\n    </tr>\n    <tr>\n      <th>98</th>\n      <td>李明威</td>\n      <td>15</td>\n      <td>9</td>\n      <td>8</td>\n      <td>9</td>\n      <td>15</td>\n      <td>56</td>\n      <td>40</td>\n    </tr>\n    <tr>\n      <th>99</th>\n      <td>農揚勇</td>\n      <td>9</td>\n      <td>11</td>\n      <td>12</td>\n      <td>12</td>\n      <td>10</td>\n      <td>54</td>\n      <td>44</td>\n    </tr>\n  </tbody>\n</table>\n<p>100 rows × 8 columns</p>\n</div>"
     },
     "execution_count": 101,
     "metadata": {},
     "output_type": "execute_result"
    }
   ],
   "source": [
    "df[\"加權\"] = df.國文 + df.英文 + df.數學 * 2\n",
    "df\n"
   ]
  },
  {
   "cell_type": "code",
   "execution_count": 102,
   "metadata": {
    "ExecuteTime": {
     "end_time": "2023-05-19T02:21:24.511180500Z",
     "start_time": "2023-05-19T02:21:24.075078100Z"
    }
   },
   "outputs": [
    {
     "data": {
      "text/plain": "    姓名  國文  英文  數學  自然  社會  總級分  加權\n0  劉俊安   9  10  15  10  13   57  49\n1  胡玉華  10  10  10   8   9   47  40\n2  黃淑婷  13  15   8  11  14   61  44\n3  陳上紫  10  10   8   9  14   51  36\n4  崔靜成  13  12  14  12  13   64  53",
      "text/html": "<div>\n<style scoped>\n    .dataframe tbody tr th:only-of-type {\n        vertical-align: middle;\n    }\n\n    .dataframe tbody tr th {\n        vertical-align: top;\n    }\n\n    .dataframe thead th {\n        text-align: right;\n    }\n</style>\n<table border=\"1\" class=\"dataframe\">\n  <thead>\n    <tr style=\"text-align: right;\">\n      <th></th>\n      <th>姓名</th>\n      <th>國文</th>\n      <th>英文</th>\n      <th>數學</th>\n      <th>自然</th>\n      <th>社會</th>\n      <th>總級分</th>\n      <th>加權</th>\n    </tr>\n  </thead>\n  <tbody>\n    <tr>\n      <th>0</th>\n      <td>劉俊安</td>\n      <td>9</td>\n      <td>10</td>\n      <td>15</td>\n      <td>10</td>\n      <td>13</td>\n      <td>57</td>\n      <td>49</td>\n    </tr>\n    <tr>\n      <th>1</th>\n      <td>胡玉華</td>\n      <td>10</td>\n      <td>10</td>\n      <td>10</td>\n      <td>8</td>\n      <td>9</td>\n      <td>47</td>\n      <td>40</td>\n    </tr>\n    <tr>\n      <th>2</th>\n      <td>黃淑婷</td>\n      <td>13</td>\n      <td>15</td>\n      <td>8</td>\n      <td>11</td>\n      <td>14</td>\n      <td>61</td>\n      <td>44</td>\n    </tr>\n    <tr>\n      <th>3</th>\n      <td>陳上紫</td>\n      <td>10</td>\n      <td>10</td>\n      <td>8</td>\n      <td>9</td>\n      <td>14</td>\n      <td>51</td>\n      <td>36</td>\n    </tr>\n    <tr>\n      <th>4</th>\n      <td>崔靜成</td>\n      <td>13</td>\n      <td>12</td>\n      <td>14</td>\n      <td>12</td>\n      <td>13</td>\n      <td>64</td>\n      <td>53</td>\n    </tr>\n  </tbody>\n</table>\n</div>"
     },
     "execution_count": 102,
     "metadata": {},
     "output_type": "execute_result"
    }
   ],
   "source": [
    "df.head()"
   ]
  },
  {
   "cell_type": "markdown",
   "metadata": {},
   "source": [
    "## 5 排序和 index 重設"
   ]
  },
  {
   "cell_type": "markdown",
   "metadata": {},
   "source": [
    "### 【重點】排序的方法\n",
    "\n",
    "我們依總級分來排序。"
   ]
  },
  {
   "cell_type": "code",
   "execution_count": 103,
   "metadata": {
    "ExecuteTime": {
     "end_time": "2023-05-19T02:21:24.512908300Z",
     "start_time": "2023-05-19T02:21:24.087045200Z"
    }
   },
   "outputs": [
    {
     "data": {
      "text/plain": "     姓名  國文  英文  數學  自然  社會  總級分  加權\n80  施雅鈴  13  15  12  13  13   66  52\n12  李正偉  11  15  11  14  15   66  48\n54  陳怡潔  15  15   9  15  11   65  48\n25  蔡亦瑄  13  13  14  13  12   65  54\n57  胡淳茜  12  15  14  13  11   65  55\n37  曾怡君  11  12  15  13  14   65  53\n48  陳怡婷  15  14  12   9  15   65  53\n64  俞志峰   9  14  13  14  15   65  49\n83  李士賢  10  14  15  13  13   65  54\n87  趙偉希  10  13  14  13  15   65  51",
      "text/html": "<div>\n<style scoped>\n    .dataframe tbody tr th:only-of-type {\n        vertical-align: middle;\n    }\n\n    .dataframe tbody tr th {\n        vertical-align: top;\n    }\n\n    .dataframe thead th {\n        text-align: right;\n    }\n</style>\n<table border=\"1\" class=\"dataframe\">\n  <thead>\n    <tr style=\"text-align: right;\">\n      <th></th>\n      <th>姓名</th>\n      <th>國文</th>\n      <th>英文</th>\n      <th>數學</th>\n      <th>自然</th>\n      <th>社會</th>\n      <th>總級分</th>\n      <th>加權</th>\n    </tr>\n  </thead>\n  <tbody>\n    <tr>\n      <th>80</th>\n      <td>施雅鈴</td>\n      <td>13</td>\n      <td>15</td>\n      <td>12</td>\n      <td>13</td>\n      <td>13</td>\n      <td>66</td>\n      <td>52</td>\n    </tr>\n    <tr>\n      <th>12</th>\n      <td>李正偉</td>\n      <td>11</td>\n      <td>15</td>\n      <td>11</td>\n      <td>14</td>\n      <td>15</td>\n      <td>66</td>\n      <td>48</td>\n    </tr>\n    <tr>\n      <th>54</th>\n      <td>陳怡潔</td>\n      <td>15</td>\n      <td>15</td>\n      <td>9</td>\n      <td>15</td>\n      <td>11</td>\n      <td>65</td>\n      <td>48</td>\n    </tr>\n    <tr>\n      <th>25</th>\n      <td>蔡亦瑄</td>\n      <td>13</td>\n      <td>13</td>\n      <td>14</td>\n      <td>13</td>\n      <td>12</td>\n      <td>65</td>\n      <td>54</td>\n    </tr>\n    <tr>\n      <th>57</th>\n      <td>胡淳茜</td>\n      <td>12</td>\n      <td>15</td>\n      <td>14</td>\n      <td>13</td>\n      <td>11</td>\n      <td>65</td>\n      <td>55</td>\n    </tr>\n    <tr>\n      <th>37</th>\n      <td>曾怡君</td>\n      <td>11</td>\n      <td>12</td>\n      <td>15</td>\n      <td>13</td>\n      <td>14</td>\n      <td>65</td>\n      <td>53</td>\n    </tr>\n    <tr>\n      <th>48</th>\n      <td>陳怡婷</td>\n      <td>15</td>\n      <td>14</td>\n      <td>12</td>\n      <td>9</td>\n      <td>15</td>\n      <td>65</td>\n      <td>53</td>\n    </tr>\n    <tr>\n      <th>64</th>\n      <td>俞志峰</td>\n      <td>9</td>\n      <td>14</td>\n      <td>13</td>\n      <td>14</td>\n      <td>15</td>\n      <td>65</td>\n      <td>49</td>\n    </tr>\n    <tr>\n      <th>83</th>\n      <td>李士賢</td>\n      <td>10</td>\n      <td>14</td>\n      <td>15</td>\n      <td>13</td>\n      <td>13</td>\n      <td>65</td>\n      <td>54</td>\n    </tr>\n    <tr>\n      <th>87</th>\n      <td>趙偉希</td>\n      <td>10</td>\n      <td>13</td>\n      <td>14</td>\n      <td>13</td>\n      <td>15</td>\n      <td>65</td>\n      <td>51</td>\n    </tr>\n  </tbody>\n</table>\n</div>"
     },
     "execution_count": 103,
     "metadata": {},
     "output_type": "execute_result"
    }
   ],
   "source": [
    "df.sort_values(by = \"總級分\", ascending = False).head(10)\n"
   ]
  },
  {
   "cell_type": "markdown",
   "metadata": {},
   "source": [
    "### 【重點】排序的方法\n",
    "\n",
    "加權分最高, 同分才看總級分"
   ]
  },
  {
   "cell_type": "code",
   "execution_count": 104,
   "metadata": {
    "ExecuteTime": {
     "end_time": "2023-05-19T02:21:24.512908300Z",
     "start_time": "2023-05-19T02:21:24.104019700Z"
    }
   },
   "outputs": [
    {
     "data": {
      "text/plain": "     姓名  國文  英文  數學  自然  社會  總級分  加權\n73  吳志遠  13  15  15   8   8   59  58\n57  胡淳茜  12  15  14  13  11   65  55\n36  詹威德  12  13  15  10  14   64  55\n25  蔡亦瑄  13  13  14  13  12   65  54\n83  李士賢  10  14  15  13  13   65  54\n..  ...  ..  ..  ..  ..  ..  ...  ..\n3   陳上紫  10  10   8   9  14   51  36\n84  胡凱琳  10   8   9   9  15   51  36\n32  林建亨   9  11   8   8  11   47  36\n18  梁慧君   9   8   8   8  12   45  33\n38  吳文伯   8   8   8  15  12   51  32\n\n[100 rows x 8 columns]",
      "text/html": "<div>\n<style scoped>\n    .dataframe tbody tr th:only-of-type {\n        vertical-align: middle;\n    }\n\n    .dataframe tbody tr th {\n        vertical-align: top;\n    }\n\n    .dataframe thead th {\n        text-align: right;\n    }\n</style>\n<table border=\"1\" class=\"dataframe\">\n  <thead>\n    <tr style=\"text-align: right;\">\n      <th></th>\n      <th>姓名</th>\n      <th>國文</th>\n      <th>英文</th>\n      <th>數學</th>\n      <th>自然</th>\n      <th>社會</th>\n      <th>總級分</th>\n      <th>加權</th>\n    </tr>\n  </thead>\n  <tbody>\n    <tr>\n      <th>73</th>\n      <td>吳志遠</td>\n      <td>13</td>\n      <td>15</td>\n      <td>15</td>\n      <td>8</td>\n      <td>8</td>\n      <td>59</td>\n      <td>58</td>\n    </tr>\n    <tr>\n      <th>57</th>\n      <td>胡淳茜</td>\n      <td>12</td>\n      <td>15</td>\n      <td>14</td>\n      <td>13</td>\n      <td>11</td>\n      <td>65</td>\n      <td>55</td>\n    </tr>\n    <tr>\n      <th>36</th>\n      <td>詹威德</td>\n      <td>12</td>\n      <td>13</td>\n      <td>15</td>\n      <td>10</td>\n      <td>14</td>\n      <td>64</td>\n      <td>55</td>\n    </tr>\n    <tr>\n      <th>25</th>\n      <td>蔡亦瑄</td>\n      <td>13</td>\n      <td>13</td>\n      <td>14</td>\n      <td>13</td>\n      <td>12</td>\n      <td>65</td>\n      <td>54</td>\n    </tr>\n    <tr>\n      <th>83</th>\n      <td>李士賢</td>\n      <td>10</td>\n      <td>14</td>\n      <td>15</td>\n      <td>13</td>\n      <td>13</td>\n      <td>65</td>\n      <td>54</td>\n    </tr>\n    <tr>\n      <th>...</th>\n      <td>...</td>\n      <td>...</td>\n      <td>...</td>\n      <td>...</td>\n      <td>...</td>\n      <td>...</td>\n      <td>...</td>\n      <td>...</td>\n    </tr>\n    <tr>\n      <th>3</th>\n      <td>陳上紫</td>\n      <td>10</td>\n      <td>10</td>\n      <td>8</td>\n      <td>9</td>\n      <td>14</td>\n      <td>51</td>\n      <td>36</td>\n    </tr>\n    <tr>\n      <th>84</th>\n      <td>胡凱琳</td>\n      <td>10</td>\n      <td>8</td>\n      <td>9</td>\n      <td>9</td>\n      <td>15</td>\n      <td>51</td>\n      <td>36</td>\n    </tr>\n    <tr>\n      <th>32</th>\n      <td>林建亨</td>\n      <td>9</td>\n      <td>11</td>\n      <td>8</td>\n      <td>8</td>\n      <td>11</td>\n      <td>47</td>\n      <td>36</td>\n    </tr>\n    <tr>\n      <th>18</th>\n      <td>梁慧君</td>\n      <td>9</td>\n      <td>8</td>\n      <td>8</td>\n      <td>8</td>\n      <td>12</td>\n      <td>45</td>\n      <td>33</td>\n    </tr>\n    <tr>\n      <th>38</th>\n      <td>吳文伯</td>\n      <td>8</td>\n      <td>8</td>\n      <td>8</td>\n      <td>15</td>\n      <td>12</td>\n      <td>51</td>\n      <td>32</td>\n    </tr>\n  </tbody>\n</table>\n<p>100 rows × 8 columns</p>\n</div>"
     },
     "execution_count": 104,
     "metadata": {},
     "output_type": "execute_result"
    }
   ],
   "source": [
    "df2 = df.sort_values(by = [\"加權\", \"總級分\"], ascending = False)\n",
    "df2"
   ]
  },
  {
   "cell_type": "markdown",
   "metadata": {},
   "source": [
    "### 【重點】重設 index"
   ]
  },
  {
   "cell_type": "code",
   "execution_count": 105,
   "metadata": {
    "ExecuteTime": {
     "end_time": "2023-05-19T02:21:24.513943900Z",
     "start_time": "2023-05-19T02:21:24.124944400Z"
    }
   },
   "outputs": [
    {
     "data": {
      "text/plain": "    姓名  國文  英文  數學  自然  社會  總級分  加權\n1  吳志遠  13  15  15   8   8   59  58\n2  胡淳茜  12  15  14  13  11   65  55\n3  詹威德  12  13  15  10  14   64  55\n4  蔡亦瑄  13  13  14  13  12   65  54\n5  李士賢  10  14  15  13  13   65  54",
      "text/html": "<div>\n<style scoped>\n    .dataframe tbody tr th:only-of-type {\n        vertical-align: middle;\n    }\n\n    .dataframe tbody tr th {\n        vertical-align: top;\n    }\n\n    .dataframe thead th {\n        text-align: right;\n    }\n</style>\n<table border=\"1\" class=\"dataframe\">\n  <thead>\n    <tr style=\"text-align: right;\">\n      <th></th>\n      <th>姓名</th>\n      <th>國文</th>\n      <th>英文</th>\n      <th>數學</th>\n      <th>自然</th>\n      <th>社會</th>\n      <th>總級分</th>\n      <th>加權</th>\n    </tr>\n  </thead>\n  <tbody>\n    <tr>\n      <th>1</th>\n      <td>吳志遠</td>\n      <td>13</td>\n      <td>15</td>\n      <td>15</td>\n      <td>8</td>\n      <td>8</td>\n      <td>59</td>\n      <td>58</td>\n    </tr>\n    <tr>\n      <th>2</th>\n      <td>胡淳茜</td>\n      <td>12</td>\n      <td>15</td>\n      <td>14</td>\n      <td>13</td>\n      <td>11</td>\n      <td>65</td>\n      <td>55</td>\n    </tr>\n    <tr>\n      <th>3</th>\n      <td>詹威德</td>\n      <td>12</td>\n      <td>13</td>\n      <td>15</td>\n      <td>10</td>\n      <td>14</td>\n      <td>64</td>\n      <td>55</td>\n    </tr>\n    <tr>\n      <th>4</th>\n      <td>蔡亦瑄</td>\n      <td>13</td>\n      <td>13</td>\n      <td>14</td>\n      <td>13</td>\n      <td>12</td>\n      <td>65</td>\n      <td>54</td>\n    </tr>\n    <tr>\n      <th>5</th>\n      <td>李士賢</td>\n      <td>10</td>\n      <td>14</td>\n      <td>15</td>\n      <td>13</td>\n      <td>13</td>\n      <td>65</td>\n      <td>54</td>\n    </tr>\n  </tbody>\n</table>\n</div>"
     },
     "execution_count": 105,
     "metadata": {},
     "output_type": "execute_result"
    }
   ],
   "source": [
    "df2.index = range(1, 101)\n",
    "df2.head()\n"
   ]
  },
  {
   "cell_type": "markdown",
   "metadata": {},
   "source": [
    "## 6 篩出我們要的資料\n",
    "\n",
    "基本上和 NumPy 的 array 篩法很像。"
   ]
  },
  {
   "cell_type": "markdown",
   "metadata": {},
   "source": [
    "### 【重點】\n",
    "\n",
    "找出數學滿級分同學。"
   ]
  },
  {
   "cell_type": "code",
   "execution_count": 106,
   "metadata": {
    "ExecuteTime": {
     "end_time": "2023-05-19T02:21:24.513943900Z",
     "start_time": "2023-05-19T02:21:24.132928Z"
    }
   },
   "outputs": [
    {
     "data": {
      "text/plain": "     姓名  國文  英文  數學  自然  社會  總級分  加權\n1   吳志遠  13  15  15   8   8   59  58\n3   詹威德  12  13  15  10  14   64  55\n5   李士賢  10  14  15  13  13   65  54\n7   曾怡君  11  12  15  13  14   65  53\n10  林哲法  14   9  15  10  14   62  53\n13  陳竹伯  10  12  15  10  14   61  52\n15  葉儀依   9  13  15   8  14   59  52\n18  周育霖   9  12  15  13  12   61  51\n21  張雅彬  10  11  15  12   8   56  51\n22  芮秋辛  11  10  15  10   8   54  51\n25  胡勝傑   8  11  15  10  15   59  49\n26  劉俊安   9  10  15  10  13   57  49\n42  段冠廷   9   8  15  12  15   59  47",
      "text/html": "<div>\n<style scoped>\n    .dataframe tbody tr th:only-of-type {\n        vertical-align: middle;\n    }\n\n    .dataframe tbody tr th {\n        vertical-align: top;\n    }\n\n    .dataframe thead th {\n        text-align: right;\n    }\n</style>\n<table border=\"1\" class=\"dataframe\">\n  <thead>\n    <tr style=\"text-align: right;\">\n      <th></th>\n      <th>姓名</th>\n      <th>國文</th>\n      <th>英文</th>\n      <th>數學</th>\n      <th>自然</th>\n      <th>社會</th>\n      <th>總級分</th>\n      <th>加權</th>\n    </tr>\n  </thead>\n  <tbody>\n    <tr>\n      <th>1</th>\n      <td>吳志遠</td>\n      <td>13</td>\n      <td>15</td>\n      <td>15</td>\n      <td>8</td>\n      <td>8</td>\n      <td>59</td>\n      <td>58</td>\n    </tr>\n    <tr>\n      <th>3</th>\n      <td>詹威德</td>\n      <td>12</td>\n      <td>13</td>\n      <td>15</td>\n      <td>10</td>\n      <td>14</td>\n      <td>64</td>\n      <td>55</td>\n    </tr>\n    <tr>\n      <th>5</th>\n      <td>李士賢</td>\n      <td>10</td>\n      <td>14</td>\n      <td>15</td>\n      <td>13</td>\n      <td>13</td>\n      <td>65</td>\n      <td>54</td>\n    </tr>\n    <tr>\n      <th>7</th>\n      <td>曾怡君</td>\n      <td>11</td>\n      <td>12</td>\n      <td>15</td>\n      <td>13</td>\n      <td>14</td>\n      <td>65</td>\n      <td>53</td>\n    </tr>\n    <tr>\n      <th>10</th>\n      <td>林哲法</td>\n      <td>14</td>\n      <td>9</td>\n      <td>15</td>\n      <td>10</td>\n      <td>14</td>\n      <td>62</td>\n      <td>53</td>\n    </tr>\n    <tr>\n      <th>13</th>\n      <td>陳竹伯</td>\n      <td>10</td>\n      <td>12</td>\n      <td>15</td>\n      <td>10</td>\n      <td>14</td>\n      <td>61</td>\n      <td>52</td>\n    </tr>\n    <tr>\n      <th>15</th>\n      <td>葉儀依</td>\n      <td>9</td>\n      <td>13</td>\n      <td>15</td>\n      <td>8</td>\n      <td>14</td>\n      <td>59</td>\n      <td>52</td>\n    </tr>\n    <tr>\n      <th>18</th>\n      <td>周育霖</td>\n      <td>9</td>\n      <td>12</td>\n      <td>15</td>\n      <td>13</td>\n      <td>12</td>\n      <td>61</td>\n      <td>51</td>\n    </tr>\n    <tr>\n      <th>21</th>\n      <td>張雅彬</td>\n      <td>10</td>\n      <td>11</td>\n      <td>15</td>\n      <td>12</td>\n      <td>8</td>\n      <td>56</td>\n      <td>51</td>\n    </tr>\n    <tr>\n      <th>22</th>\n      <td>芮秋辛</td>\n      <td>11</td>\n      <td>10</td>\n      <td>15</td>\n      <td>10</td>\n      <td>8</td>\n      <td>54</td>\n      <td>51</td>\n    </tr>\n    <tr>\n      <th>25</th>\n      <td>胡勝傑</td>\n      <td>8</td>\n      <td>11</td>\n      <td>15</td>\n      <td>10</td>\n      <td>15</td>\n      <td>59</td>\n      <td>49</td>\n    </tr>\n    <tr>\n      <th>26</th>\n      <td>劉俊安</td>\n      <td>9</td>\n      <td>10</td>\n      <td>15</td>\n      <td>10</td>\n      <td>13</td>\n      <td>57</td>\n      <td>49</td>\n    </tr>\n    <tr>\n      <th>42</th>\n      <td>段冠廷</td>\n      <td>9</td>\n      <td>8</td>\n      <td>15</td>\n      <td>12</td>\n      <td>15</td>\n      <td>59</td>\n      <td>47</td>\n    </tr>\n  </tbody>\n</table>\n</div>"
     },
     "execution_count": 106,
     "metadata": {},
     "output_type": "execute_result"
    }
   ],
   "source": [
    "df2[df2.數學 == 15]\n"
   ]
  },
  {
   "cell_type": "markdown",
   "metadata": {},
   "source": [
    "### 【重點】\n",
    "\n",
    "找出數學和英文都滿級分的同學。要注意 `and` 要用 `&`, `or` 要用 `|`。每個條件一定要加弧號。"
   ]
  },
  {
   "cell_type": "code",
   "execution_count": 107,
   "metadata": {
    "ExecuteTime": {
     "end_time": "2023-05-19T02:21:24.513943900Z",
     "start_time": "2023-05-19T02:21:24.148880700Z"
    }
   },
   "outputs": [
    {
     "data": {
      "text/plain": "    姓名  國文  英文  數學  自然  社會  總級分  加權\n1  吳志遠  13  15  15   8   8   59  58",
      "text/html": "<div>\n<style scoped>\n    .dataframe tbody tr th:only-of-type {\n        vertical-align: middle;\n    }\n\n    .dataframe tbody tr th {\n        vertical-align: top;\n    }\n\n    .dataframe thead th {\n        text-align: right;\n    }\n</style>\n<table border=\"1\" class=\"dataframe\">\n  <thead>\n    <tr style=\"text-align: right;\">\n      <th></th>\n      <th>姓名</th>\n      <th>國文</th>\n      <th>英文</th>\n      <th>數學</th>\n      <th>自然</th>\n      <th>社會</th>\n      <th>總級分</th>\n      <th>加權</th>\n    </tr>\n  </thead>\n  <tbody>\n    <tr>\n      <th>1</th>\n      <td>吳志遠</td>\n      <td>13</td>\n      <td>15</td>\n      <td>15</td>\n      <td>8</td>\n      <td>8</td>\n      <td>59</td>\n      <td>58</td>\n    </tr>\n  </tbody>\n</table>\n</div>"
     },
     "execution_count": 107,
     "metadata": {},
     "output_type": "execute_result"
    }
   ],
   "source": [
    "df2[(df2.數學 == 15) & (df2.英文 == 15)]"
   ]
  },
  {
   "cell_type": "markdown",
   "metadata": {},
   "source": [
    "## 7 刪除一行或一列"
   ]
  },
  {
   "cell_type": "markdown",
   "metadata": {},
   "source": [
    "### 【重點】刪掉一行\n",
    "\n",
    "我們來刪掉總級分的那行。"
   ]
  },
  {
   "cell_type": "code",
   "execution_count": 108,
   "metadata": {
    "ExecuteTime": {
     "end_time": "2023-05-19T02:21:24.513943900Z",
     "start_time": "2023-05-19T02:21:24.161914100Z"
    }
   },
   "outputs": [
    {
     "data": {
      "text/plain": "      姓名  國文  英文  數學  自然  社會  加權\n1    吳志遠  13  15  15   8   8  58\n2    胡淳茜  12  15  14  13  11  55\n3    詹威德  12  13  15  10  14  55\n4    蔡亦瑄  13  13  14  13  12  54\n5    李士賢  10  14  15  13  13  54\n..   ...  ..  ..  ..  ..  ..  ..\n96   陳上紫  10  10   8   9  14  36\n97   胡凱琳  10   8   9   9  15  36\n98   林建亨   9  11   8   8  11  36\n99   梁慧君   9   8   8   8  12  33\n100  吳文伯   8   8   8  15  12  32\n\n[100 rows x 7 columns]",
      "text/html": "<div>\n<style scoped>\n    .dataframe tbody tr th:only-of-type {\n        vertical-align: middle;\n    }\n\n    .dataframe tbody tr th {\n        vertical-align: top;\n    }\n\n    .dataframe thead th {\n        text-align: right;\n    }\n</style>\n<table border=\"1\" class=\"dataframe\">\n  <thead>\n    <tr style=\"text-align: right;\">\n      <th></th>\n      <th>姓名</th>\n      <th>國文</th>\n      <th>英文</th>\n      <th>數學</th>\n      <th>自然</th>\n      <th>社會</th>\n      <th>加權</th>\n    </tr>\n  </thead>\n  <tbody>\n    <tr>\n      <th>1</th>\n      <td>吳志遠</td>\n      <td>13</td>\n      <td>15</td>\n      <td>15</td>\n      <td>8</td>\n      <td>8</td>\n      <td>58</td>\n    </tr>\n    <tr>\n      <th>2</th>\n      <td>胡淳茜</td>\n      <td>12</td>\n      <td>15</td>\n      <td>14</td>\n      <td>13</td>\n      <td>11</td>\n      <td>55</td>\n    </tr>\n    <tr>\n      <th>3</th>\n      <td>詹威德</td>\n      <td>12</td>\n      <td>13</td>\n      <td>15</td>\n      <td>10</td>\n      <td>14</td>\n      <td>55</td>\n    </tr>\n    <tr>\n      <th>4</th>\n      <td>蔡亦瑄</td>\n      <td>13</td>\n      <td>13</td>\n      <td>14</td>\n      <td>13</td>\n      <td>12</td>\n      <td>54</td>\n    </tr>\n    <tr>\n      <th>5</th>\n      <td>李士賢</td>\n      <td>10</td>\n      <td>14</td>\n      <td>15</td>\n      <td>13</td>\n      <td>13</td>\n      <td>54</td>\n    </tr>\n    <tr>\n      <th>...</th>\n      <td>...</td>\n      <td>...</td>\n      <td>...</td>\n      <td>...</td>\n      <td>...</td>\n      <td>...</td>\n      <td>...</td>\n    </tr>\n    <tr>\n      <th>96</th>\n      <td>陳上紫</td>\n      <td>10</td>\n      <td>10</td>\n      <td>8</td>\n      <td>9</td>\n      <td>14</td>\n      <td>36</td>\n    </tr>\n    <tr>\n      <th>97</th>\n      <td>胡凱琳</td>\n      <td>10</td>\n      <td>8</td>\n      <td>9</td>\n      <td>9</td>\n      <td>15</td>\n      <td>36</td>\n    </tr>\n    <tr>\n      <th>98</th>\n      <td>林建亨</td>\n      <td>9</td>\n      <td>11</td>\n      <td>8</td>\n      <td>8</td>\n      <td>11</td>\n      <td>36</td>\n    </tr>\n    <tr>\n      <th>99</th>\n      <td>梁慧君</td>\n      <td>9</td>\n      <td>8</td>\n      <td>8</td>\n      <td>8</td>\n      <td>12</td>\n      <td>33</td>\n    </tr>\n    <tr>\n      <th>100</th>\n      <td>吳文伯</td>\n      <td>8</td>\n      <td>8</td>\n      <td>8</td>\n      <td>15</td>\n      <td>12</td>\n      <td>32</td>\n    </tr>\n  </tbody>\n</table>\n<p>100 rows × 7 columns</p>\n</div>"
     },
     "execution_count": 108,
     "metadata": {},
     "output_type": "execute_result"
    }
   ],
   "source": [
    "df2.drop(\"總級分\", axis = 1)\n"
   ]
  },
  {
   "cell_type": "markdown",
   "metadata": {},
   "source": [
    "### 【重點】改變原有的 DataFrame\n",
    "\n",
    "我們會發現 `pandas` 很多動作都沒有更改原有的 DataFrame, 真的要改要加入\n",
    "\n",
    "    inplace=True"
   ]
  },
  {
   "cell_type": "code",
   "execution_count": 109,
   "metadata": {
    "ExecuteTime": {
     "end_time": "2023-05-19T02:21:24.514928900Z",
     "start_time": "2023-05-19T02:21:24.176805700Z"
    }
   },
   "outputs": [
    {
     "data": {
      "text/plain": "     姓名  國文  英文  數學  自然  社會  加權\n0   劉俊安   9  10  15  10  13  49\n1   胡玉華  10  10  10   8   9  40\n2   黃淑婷  13  15   8  11  14  44\n3   陳上紫  10  10   8   9  14  36\n4   崔靜成  13  12  14  12  13  53\n..  ...  ..  ..  ..  ..  ..  ..\n95  蔡佳燕   9  10   9  13  14  37\n96  吳筱婷   8  10  14  10  15  46\n97  陳家銘  14   9  11   8  12  45\n98  李明威  15   9   8   9  15  40\n99  農揚勇   9  11  12  12  10  44\n\n[100 rows x 7 columns]",
      "text/html": "<div>\n<style scoped>\n    .dataframe tbody tr th:only-of-type {\n        vertical-align: middle;\n    }\n\n    .dataframe tbody tr th {\n        vertical-align: top;\n    }\n\n    .dataframe thead th {\n        text-align: right;\n    }\n</style>\n<table border=\"1\" class=\"dataframe\">\n  <thead>\n    <tr style=\"text-align: right;\">\n      <th></th>\n      <th>姓名</th>\n      <th>國文</th>\n      <th>英文</th>\n      <th>數學</th>\n      <th>自然</th>\n      <th>社會</th>\n      <th>加權</th>\n    </tr>\n  </thead>\n  <tbody>\n    <tr>\n      <th>0</th>\n      <td>劉俊安</td>\n      <td>9</td>\n      <td>10</td>\n      <td>15</td>\n      <td>10</td>\n      <td>13</td>\n      <td>49</td>\n    </tr>\n    <tr>\n      <th>1</th>\n      <td>胡玉華</td>\n      <td>10</td>\n      <td>10</td>\n      <td>10</td>\n      <td>8</td>\n      <td>9</td>\n      <td>40</td>\n    </tr>\n    <tr>\n      <th>2</th>\n      <td>黃淑婷</td>\n      <td>13</td>\n      <td>15</td>\n      <td>8</td>\n      <td>11</td>\n      <td>14</td>\n      <td>44</td>\n    </tr>\n    <tr>\n      <th>3</th>\n      <td>陳上紫</td>\n      <td>10</td>\n      <td>10</td>\n      <td>8</td>\n      <td>9</td>\n      <td>14</td>\n      <td>36</td>\n    </tr>\n    <tr>\n      <th>4</th>\n      <td>崔靜成</td>\n      <td>13</td>\n      <td>12</td>\n      <td>14</td>\n      <td>12</td>\n      <td>13</td>\n      <td>53</td>\n    </tr>\n    <tr>\n      <th>...</th>\n      <td>...</td>\n      <td>...</td>\n      <td>...</td>\n      <td>...</td>\n      <td>...</td>\n      <td>...</td>\n      <td>...</td>\n    </tr>\n    <tr>\n      <th>95</th>\n      <td>蔡佳燕</td>\n      <td>9</td>\n      <td>10</td>\n      <td>9</td>\n      <td>13</td>\n      <td>14</td>\n      <td>37</td>\n    </tr>\n    <tr>\n      <th>96</th>\n      <td>吳筱婷</td>\n      <td>8</td>\n      <td>10</td>\n      <td>14</td>\n      <td>10</td>\n      <td>15</td>\n      <td>46</td>\n    </tr>\n    <tr>\n      <th>97</th>\n      <td>陳家銘</td>\n      <td>14</td>\n      <td>9</td>\n      <td>11</td>\n      <td>8</td>\n      <td>12</td>\n      <td>45</td>\n    </tr>\n    <tr>\n      <th>98</th>\n      <td>李明威</td>\n      <td>15</td>\n      <td>9</td>\n      <td>8</td>\n      <td>9</td>\n      <td>15</td>\n      <td>40</td>\n    </tr>\n    <tr>\n      <th>99</th>\n      <td>農揚勇</td>\n      <td>9</td>\n      <td>11</td>\n      <td>12</td>\n      <td>12</td>\n      <td>10</td>\n      <td>44</td>\n    </tr>\n  </tbody>\n</table>\n<p>100 rows × 7 columns</p>\n</div>"
     },
     "execution_count": 109,
     "metadata": {},
     "output_type": "execute_result"
    }
   ],
   "source": [
    "df.drop(\"總級分\", axis = 1, inplace = True)\n",
    "df"
   ]
  },
  {
   "cell_type": "markdown",
   "metadata": {},
   "source": [
    "### 【重點】刪掉一列\n",
    "\n",
    "刪掉列就是指定要刪去的 index。"
   ]
  },
  {
   "cell_type": "code",
   "execution_count": 110,
   "metadata": {
    "ExecuteTime": {
     "end_time": "2023-05-19T02:21:24.514928900Z",
     "start_time": "2023-05-19T02:21:24.193429Z"
    }
   },
   "outputs": [
    {
     "data": {
      "text/plain": "    姓名  國文  英文  數學  自然  社會  總級分  加權\n1  吳志遠  13  15  15   8   8   59  58\n2  胡淳茜  12  15  14  13  11   65  55\n3  詹威德  12  13  15  10  14   64  55\n4  蔡亦瑄  13  13  14  13  12   65  54\n6  童心怡  13  13  14   8  13   61  54",
      "text/html": "<div>\n<style scoped>\n    .dataframe tbody tr th:only-of-type {\n        vertical-align: middle;\n    }\n\n    .dataframe tbody tr th {\n        vertical-align: top;\n    }\n\n    .dataframe thead th {\n        text-align: right;\n    }\n</style>\n<table border=\"1\" class=\"dataframe\">\n  <thead>\n    <tr style=\"text-align: right;\">\n      <th></th>\n      <th>姓名</th>\n      <th>國文</th>\n      <th>英文</th>\n      <th>數學</th>\n      <th>自然</th>\n      <th>社會</th>\n      <th>總級分</th>\n      <th>加權</th>\n    </tr>\n  </thead>\n  <tbody>\n    <tr>\n      <th>1</th>\n      <td>吳志遠</td>\n      <td>13</td>\n      <td>15</td>\n      <td>15</td>\n      <td>8</td>\n      <td>8</td>\n      <td>59</td>\n      <td>58</td>\n    </tr>\n    <tr>\n      <th>2</th>\n      <td>胡淳茜</td>\n      <td>12</td>\n      <td>15</td>\n      <td>14</td>\n      <td>13</td>\n      <td>11</td>\n      <td>65</td>\n      <td>55</td>\n    </tr>\n    <tr>\n      <th>3</th>\n      <td>詹威德</td>\n      <td>12</td>\n      <td>13</td>\n      <td>15</td>\n      <td>10</td>\n      <td>14</td>\n      <td>64</td>\n      <td>55</td>\n    </tr>\n    <tr>\n      <th>4</th>\n      <td>蔡亦瑄</td>\n      <td>13</td>\n      <td>13</td>\n      <td>14</td>\n      <td>13</td>\n      <td>12</td>\n      <td>65</td>\n      <td>54</td>\n    </tr>\n    <tr>\n      <th>6</th>\n      <td>童心怡</td>\n      <td>13</td>\n      <td>13</td>\n      <td>14</td>\n      <td>8</td>\n      <td>13</td>\n      <td>61</td>\n      <td>54</td>\n    </tr>\n  </tbody>\n</table>\n</div>"
     },
     "execution_count": 110,
     "metadata": {},
     "output_type": "execute_result"
    }
   ],
   "source": [
    "df2.drop(5).head()\n"
   ]
  },
  {
   "cell_type": "markdown",
   "metadata": {},
   "source": [
    "### 【重點】刪掉一列\n",
    "\n",
    "通常刪掉符合條件的比較合理 (注意是找到要刪掉的部份, 再找出相對的 index)。"
   ]
  },
  {
   "cell_type": "code",
   "execution_count": 112,
   "metadata": {
    "ExecuteTime": {
     "end_time": "2023-05-19T02:22:33.929598500Z",
     "start_time": "2023-05-19T02:22:33.908201100Z"
    }
   },
   "outputs": [
    {
     "data": {
      "text/plain": "      姓名  國文  英文  數學  自然  社會  總級分  加權\n1    吳志遠  13  15  15   8   8   59  58\n2    胡淳茜  12  15  14  13  11   65  55\n4    蔡亦瑄  13  13  14  13  12   65  54\n5    李士賢  10  14  15  13  13   65  54\n6    童心怡  13  13  14   8  13   61  54\n..   ...  ..  ..  ..  ..  ..  ...  ..\n96   陳上紫  10  10   8   9  14   51  36\n97   胡凱琳  10   8   9   9  15   51  36\n98   林建亨   9  11   8   8  11   47  36\n99   梁慧君   9   8   8   8  12   45  33\n100  吳文伯   8   8   8  15  12   51  32\n\n[99 rows x 8 columns]",
      "text/html": "<div>\n<style scoped>\n    .dataframe tbody tr th:only-of-type {\n        vertical-align: middle;\n    }\n\n    .dataframe tbody tr th {\n        vertical-align: top;\n    }\n\n    .dataframe thead th {\n        text-align: right;\n    }\n</style>\n<table border=\"1\" class=\"dataframe\">\n  <thead>\n    <tr style=\"text-align: right;\">\n      <th></th>\n      <th>姓名</th>\n      <th>國文</th>\n      <th>英文</th>\n      <th>數學</th>\n      <th>自然</th>\n      <th>社會</th>\n      <th>總級分</th>\n      <th>加權</th>\n    </tr>\n  </thead>\n  <tbody>\n    <tr>\n      <th>1</th>\n      <td>吳志遠</td>\n      <td>13</td>\n      <td>15</td>\n      <td>15</td>\n      <td>8</td>\n      <td>8</td>\n      <td>59</td>\n      <td>58</td>\n    </tr>\n    <tr>\n      <th>2</th>\n      <td>胡淳茜</td>\n      <td>12</td>\n      <td>15</td>\n      <td>14</td>\n      <td>13</td>\n      <td>11</td>\n      <td>65</td>\n      <td>55</td>\n    </tr>\n    <tr>\n      <th>4</th>\n      <td>蔡亦瑄</td>\n      <td>13</td>\n      <td>13</td>\n      <td>14</td>\n      <td>13</td>\n      <td>12</td>\n      <td>65</td>\n      <td>54</td>\n    </tr>\n    <tr>\n      <th>5</th>\n      <td>李士賢</td>\n      <td>10</td>\n      <td>14</td>\n      <td>15</td>\n      <td>13</td>\n      <td>13</td>\n      <td>65</td>\n      <td>54</td>\n    </tr>\n    <tr>\n      <th>6</th>\n      <td>童心怡</td>\n      <td>13</td>\n      <td>13</td>\n      <td>14</td>\n      <td>8</td>\n      <td>13</td>\n      <td>61</td>\n      <td>54</td>\n    </tr>\n    <tr>\n      <th>...</th>\n      <td>...</td>\n      <td>...</td>\n      <td>...</td>\n      <td>...</td>\n      <td>...</td>\n      <td>...</td>\n      <td>...</td>\n      <td>...</td>\n    </tr>\n    <tr>\n      <th>96</th>\n      <td>陳上紫</td>\n      <td>10</td>\n      <td>10</td>\n      <td>8</td>\n      <td>9</td>\n      <td>14</td>\n      <td>51</td>\n      <td>36</td>\n    </tr>\n    <tr>\n      <th>97</th>\n      <td>胡凱琳</td>\n      <td>10</td>\n      <td>8</td>\n      <td>9</td>\n      <td>9</td>\n      <td>15</td>\n      <td>51</td>\n      <td>36</td>\n    </tr>\n    <tr>\n      <th>98</th>\n      <td>林建亨</td>\n      <td>9</td>\n      <td>11</td>\n      <td>8</td>\n      <td>8</td>\n      <td>11</td>\n      <td>47</td>\n      <td>36</td>\n    </tr>\n    <tr>\n      <th>99</th>\n      <td>梁慧君</td>\n      <td>9</td>\n      <td>8</td>\n      <td>8</td>\n      <td>8</td>\n      <td>12</td>\n      <td>45</td>\n      <td>33</td>\n    </tr>\n    <tr>\n      <th>100</th>\n      <td>吳文伯</td>\n      <td>8</td>\n      <td>8</td>\n      <td>8</td>\n      <td>15</td>\n      <td>12</td>\n      <td>51</td>\n      <td>32</td>\n    </tr>\n  </tbody>\n</table>\n<p>99 rows × 8 columns</p>\n</div>"
     },
     "execution_count": 112,
     "metadata": {},
     "output_type": "execute_result"
    }
   ],
   "source": [
    "df2.drop(df2[df2.姓名 == \"詹威德\"].index)"
   ]
  },
  {
   "cell_type": "markdown",
   "metadata": {},
   "source": [
    "## 8 真實股價資料\n",
    "\n",
    "有個從 `Pandas` 獨立出來的套件叫 `pandas-datareader`, 幾經波折, 先是 Yahoo! 的財務資料不能用, 後來又是 Google 的資料不能用, 不過至少現在看來 Yahoo! 還可以使用。\n",
    "\n",
    "安裝 `pandas-datareader` 就標準 `conda` 安裝:\n",
    "\n",
    "    conda install pandas-datareader\n",
    "    \n",
    "如果裝過, 但很久沒更新就用:\n",
    "\n",
    "    conda update pandas-datareader"
   ]
  },
  {
   "cell_type": "markdown",
   "metadata": {},
   "source": [
    "### 【例子】 分析 Apple 股價"
   ]
  },
  {
   "cell_type": "code",
   "execution_count": 3,
   "metadata": {
    "ExecuteTime": {
     "end_time": "2023-05-19T07:02:29.214803100Z",
     "start_time": "2023-05-19T07:02:26.314604800Z"
    }
   },
   "outputs": [],
   "source": [
    "import pandas_datareader as pdr\n",
    "#df = pdr.get_data_yahoo('AAPL')"
   ]
  },
  {
   "cell_type": "code",
   "execution_count": 4,
   "metadata": {
    "ExecuteTime": {
     "end_time": "2023-05-19T07:02:29.871746100Z",
     "start_time": "2023-05-19T07:02:29.833872700Z"
    }
   },
   "outputs": [],
   "source": [
    "# 為防止網路有問題, 我們把這個檔案以 aapl.csv 存起來, 可以這樣讀入。\n",
    "df = pd.read_csv('data/aapl.csv', index_col=\"Date\")"
   ]
  },
  {
   "cell_type": "code",
   "execution_count": 5,
   "metadata": {
    "ExecuteTime": {
     "end_time": "2023-05-19T07:02:31.268866500Z",
     "start_time": "2023-05-19T07:02:31.191347Z"
    }
   },
   "outputs": [
    {
     "data": {
      "text/plain": "                 Open       High        Low      Close  Adj Close     Volume\nDate                                                                        \n2009-12-31  30.447144  30.478571  30.080000  30.104286  26.986492   88102700\n2010-01-04  30.490000  30.642857  30.340000  30.572857  27.406532  123432400\n2010-01-05  30.657143  30.798571  30.464285  30.625713  27.453915  150476200\n2010-01-06  30.625713  30.747143  30.107143  30.138571  27.017223  138040000\n2010-01-07  30.250000  30.285715  29.864286  30.082857  26.967278  119282800",
      "text/html": "<div>\n<style scoped>\n    .dataframe tbody tr th:only-of-type {\n        vertical-align: middle;\n    }\n\n    .dataframe tbody tr th {\n        vertical-align: top;\n    }\n\n    .dataframe thead th {\n        text-align: right;\n    }\n</style>\n<table border=\"1\" class=\"dataframe\">\n  <thead>\n    <tr style=\"text-align: right;\">\n      <th></th>\n      <th>Open</th>\n      <th>High</th>\n      <th>Low</th>\n      <th>Close</th>\n      <th>Adj Close</th>\n      <th>Volume</th>\n    </tr>\n    <tr>\n      <th>Date</th>\n      <th></th>\n      <th></th>\n      <th></th>\n      <th></th>\n      <th></th>\n      <th></th>\n    </tr>\n  </thead>\n  <tbody>\n    <tr>\n      <th>2009-12-31</th>\n      <td>30.447144</td>\n      <td>30.478571</td>\n      <td>30.080000</td>\n      <td>30.104286</td>\n      <td>26.986492</td>\n      <td>88102700</td>\n    </tr>\n    <tr>\n      <th>2010-01-04</th>\n      <td>30.490000</td>\n      <td>30.642857</td>\n      <td>30.340000</td>\n      <td>30.572857</td>\n      <td>27.406532</td>\n      <td>123432400</td>\n    </tr>\n    <tr>\n      <th>2010-01-05</th>\n      <td>30.657143</td>\n      <td>30.798571</td>\n      <td>30.464285</td>\n      <td>30.625713</td>\n      <td>27.453915</td>\n      <td>150476200</td>\n    </tr>\n    <tr>\n      <th>2010-01-06</th>\n      <td>30.625713</td>\n      <td>30.747143</td>\n      <td>30.107143</td>\n      <td>30.138571</td>\n      <td>27.017223</td>\n      <td>138040000</td>\n    </tr>\n    <tr>\n      <th>2010-01-07</th>\n      <td>30.250000</td>\n      <td>30.285715</td>\n      <td>29.864286</td>\n      <td>30.082857</td>\n      <td>26.967278</td>\n      <td>119282800</td>\n    </tr>\n  </tbody>\n</table>\n</div>"
     },
     "execution_count": 5,
     "metadata": {},
     "output_type": "execute_result"
    }
   ],
   "source": [
    "df.head()"
   ]
  },
  {
   "cell_type": "markdown",
   "metadata": {
    "ExecuteTime": {
     "end_time": "2023-05-19T05:18:41.884228400Z",
     "start_time": "2023-05-19T05:18:41.844382400Z"
    }
   },
   "source": [
    "#### 只要最後 300 個交易日!"
   ],
   "outputs": [
    {
     "data": {
      "text/plain": "                  Open        High         Low       Close   Adj Close  \\\nDate                                                                     \n2016-10-03  112.709999  113.050003  112.279999  112.519997  110.173546   \n2016-10-04  113.059998  114.309998  112.629997  113.000000  110.643539   \n2016-10-05  113.400002  113.660004  112.690002  113.050003  110.692505   \n2016-10-06  113.699997  114.339996  113.129997  113.889999  111.514984   \n2016-10-07  114.309998  114.559998  113.510002  114.059998  111.681435   \n...                ...         ...         ...         ...         ...   \n2017-12-04  172.479996  172.619995  169.630005  169.800003  169.800003   \n2017-12-05  169.059998  171.520004  168.399994  169.639999  169.639999   \n2017-12-06  167.500000  170.199997  166.460007  169.009995  169.009995   \n2017-12-07  169.029999  170.440002  168.910004  169.320007  169.320007   \n2017-12-08  170.490005  171.000000  168.820007  169.369995  169.369995   \n\n              Volume  \nDate                  \n2016-10-03  21701800  \n2016-10-04  29736800  \n2016-10-05  21453100  \n2016-10-06  28779300  \n2016-10-07  24358400  \n...              ...  \n2017-12-04  32542400  \n2017-12-05  27350200  \n2017-12-06  28560000  \n2017-12-07  25673300  \n2017-12-08  23173700  \n\n[300 rows x 6 columns]",
      "text/html": "<div>\n<style scoped>\n    .dataframe tbody tr th:only-of-type {\n        vertical-align: middle;\n    }\n\n    .dataframe tbody tr th {\n        vertical-align: top;\n    }\n\n    .dataframe thead th {\n        text-align: right;\n    }\n</style>\n<table border=\"1\" class=\"dataframe\">\n  <thead>\n    <tr style=\"text-align: right;\">\n      <th></th>\n      <th>Open</th>\n      <th>High</th>\n      <th>Low</th>\n      <th>Close</th>\n      <th>Adj Close</th>\n      <th>Volume</th>\n    </tr>\n    <tr>\n      <th>Date</th>\n      <th></th>\n      <th></th>\n      <th></th>\n      <th></th>\n      <th></th>\n      <th></th>\n    </tr>\n  </thead>\n  <tbody>\n    <tr>\n      <th>2016-10-03</th>\n      <td>112.709999</td>\n      <td>113.050003</td>\n      <td>112.279999</td>\n      <td>112.519997</td>\n      <td>110.173546</td>\n      <td>21701800</td>\n    </tr>\n    <tr>\n      <th>2016-10-04</th>\n      <td>113.059998</td>\n      <td>114.309998</td>\n      <td>112.629997</td>\n      <td>113.000000</td>\n      <td>110.643539</td>\n      <td>29736800</td>\n    </tr>\n    <tr>\n      <th>2016-10-05</th>\n      <td>113.400002</td>\n      <td>113.660004</td>\n      <td>112.690002</td>\n      <td>113.050003</td>\n      <td>110.692505</td>\n      <td>21453100</td>\n    </tr>\n    <tr>\n      <th>2016-10-06</th>\n      <td>113.699997</td>\n      <td>114.339996</td>\n      <td>113.129997</td>\n      <td>113.889999</td>\n      <td>111.514984</td>\n      <td>28779300</td>\n    </tr>\n    <tr>\n      <th>2016-10-07</th>\n      <td>114.309998</td>\n      <td>114.559998</td>\n      <td>113.510002</td>\n      <td>114.059998</td>\n      <td>111.681435</td>\n      <td>24358400</td>\n    </tr>\n    <tr>\n      <th>...</th>\n      <td>...</td>\n      <td>...</td>\n      <td>...</td>\n      <td>...</td>\n      <td>...</td>\n      <td>...</td>\n    </tr>\n    <tr>\n      <th>2017-12-04</th>\n      <td>172.479996</td>\n      <td>172.619995</td>\n      <td>169.630005</td>\n      <td>169.800003</td>\n      <td>169.800003</td>\n      <td>32542400</td>\n    </tr>\n    <tr>\n      <th>2017-12-05</th>\n      <td>169.059998</td>\n      <td>171.520004</td>\n      <td>168.399994</td>\n      <td>169.639999</td>\n      <td>169.639999</td>\n      <td>27350200</td>\n    </tr>\n    <tr>\n      <th>2017-12-06</th>\n      <td>167.500000</td>\n      <td>170.199997</td>\n      <td>166.460007</td>\n      <td>169.009995</td>\n      <td>169.009995</td>\n      <td>28560000</td>\n    </tr>\n    <tr>\n      <th>2017-12-07</th>\n      <td>169.029999</td>\n      <td>170.440002</td>\n      <td>168.910004</td>\n      <td>169.320007</td>\n      <td>169.320007</td>\n      <td>25673300</td>\n    </tr>\n    <tr>\n      <th>2017-12-08</th>\n      <td>170.490005</td>\n      <td>171.000000</td>\n      <td>168.820007</td>\n      <td>169.369995</td>\n      <td>169.369995</td>\n      <td>23173700</td>\n    </tr>\n  </tbody>\n</table>\n<p>300 rows × 6 columns</p>\n</div>"
     },
     "execution_count": 10,
     "metadata": {},
     "output_type": "execute_result"
    }
   ],
   "execution_count": 10
  },
  {
   "cell_type": "code",
   "execution_count": 6,
   "metadata": {
    "ExecuteTime": {
     "end_time": "2023-05-19T07:02:32.831438600Z",
     "start_time": "2023-05-19T07:02:32.787555400Z"
    }
   },
   "outputs": [
    {
     "data": {
      "text/plain": "                  Open        High         Low       Close   Adj Close  \\\nDate                                                                     \n2016-10-03  112.709999  113.050003  112.279999  112.519997  110.173546   \n2016-10-04  113.059998  114.309998  112.629997  113.000000  110.643539   \n2016-10-05  113.400002  113.660004  112.690002  113.050003  110.692505   \n2016-10-06  113.699997  114.339996  113.129997  113.889999  111.514984   \n2016-10-07  114.309998  114.559998  113.510002  114.059998  111.681435   \n...                ...         ...         ...         ...         ...   \n2017-12-04  172.479996  172.619995  169.630005  169.800003  169.800003   \n2017-12-05  169.059998  171.520004  168.399994  169.639999  169.639999   \n2017-12-06  167.500000  170.199997  166.460007  169.009995  169.009995   \n2017-12-07  169.029999  170.440002  168.910004  169.320007  169.320007   \n2017-12-08  170.490005  171.000000  168.820007  169.369995  169.369995   \n\n              Volume  \nDate                  \n2016-10-03  21701800  \n2016-10-04  29736800  \n2016-10-05  21453100  \n2016-10-06  28779300  \n2016-10-07  24358400  \n...              ...  \n2017-12-04  32542400  \n2017-12-05  27350200  \n2017-12-06  28560000  \n2017-12-07  25673300  \n2017-12-08  23173700  \n\n[300 rows x 6 columns]",
      "text/html": "<div>\n<style scoped>\n    .dataframe tbody tr th:only-of-type {\n        vertical-align: middle;\n    }\n\n    .dataframe tbody tr th {\n        vertical-align: top;\n    }\n\n    .dataframe thead th {\n        text-align: right;\n    }\n</style>\n<table border=\"1\" class=\"dataframe\">\n  <thead>\n    <tr style=\"text-align: right;\">\n      <th></th>\n      <th>Open</th>\n      <th>High</th>\n      <th>Low</th>\n      <th>Close</th>\n      <th>Adj Close</th>\n      <th>Volume</th>\n    </tr>\n    <tr>\n      <th>Date</th>\n      <th></th>\n      <th></th>\n      <th></th>\n      <th></th>\n      <th></th>\n      <th></th>\n    </tr>\n  </thead>\n  <tbody>\n    <tr>\n      <th>2016-10-03</th>\n      <td>112.709999</td>\n      <td>113.050003</td>\n      <td>112.279999</td>\n      <td>112.519997</td>\n      <td>110.173546</td>\n      <td>21701800</td>\n    </tr>\n    <tr>\n      <th>2016-10-04</th>\n      <td>113.059998</td>\n      <td>114.309998</td>\n      <td>112.629997</td>\n      <td>113.000000</td>\n      <td>110.643539</td>\n      <td>29736800</td>\n    </tr>\n    <tr>\n      <th>2016-10-05</th>\n      <td>113.400002</td>\n      <td>113.660004</td>\n      <td>112.690002</td>\n      <td>113.050003</td>\n      <td>110.692505</td>\n      <td>21453100</td>\n    </tr>\n    <tr>\n      <th>2016-10-06</th>\n      <td>113.699997</td>\n      <td>114.339996</td>\n      <td>113.129997</td>\n      <td>113.889999</td>\n      <td>111.514984</td>\n      <td>28779300</td>\n    </tr>\n    <tr>\n      <th>2016-10-07</th>\n      <td>114.309998</td>\n      <td>114.559998</td>\n      <td>113.510002</td>\n      <td>114.059998</td>\n      <td>111.681435</td>\n      <td>24358400</td>\n    </tr>\n    <tr>\n      <th>...</th>\n      <td>...</td>\n      <td>...</td>\n      <td>...</td>\n      <td>...</td>\n      <td>...</td>\n      <td>...</td>\n    </tr>\n    <tr>\n      <th>2017-12-04</th>\n      <td>172.479996</td>\n      <td>172.619995</td>\n      <td>169.630005</td>\n      <td>169.800003</td>\n      <td>169.800003</td>\n      <td>32542400</td>\n    </tr>\n    <tr>\n      <th>2017-12-05</th>\n      <td>169.059998</td>\n      <td>171.520004</td>\n      <td>168.399994</td>\n      <td>169.639999</td>\n      <td>169.639999</td>\n      <td>27350200</td>\n    </tr>\n    <tr>\n      <th>2017-12-06</th>\n      <td>167.500000</td>\n      <td>170.199997</td>\n      <td>166.460007</td>\n      <td>169.009995</td>\n      <td>169.009995</td>\n      <td>28560000</td>\n    </tr>\n    <tr>\n      <th>2017-12-07</th>\n      <td>169.029999</td>\n      <td>170.440002</td>\n      <td>168.910004</td>\n      <td>169.320007</td>\n      <td>169.320007</td>\n      <td>25673300</td>\n    </tr>\n    <tr>\n      <th>2017-12-08</th>\n      <td>170.490005</td>\n      <td>171.000000</td>\n      <td>168.820007</td>\n      <td>169.369995</td>\n      <td>169.369995</td>\n      <td>23173700</td>\n    </tr>\n  </tbody>\n</table>\n<p>300 rows × 6 columns</p>\n</div>"
     },
     "execution_count": 6,
     "metadata": {},
     "output_type": "execute_result"
    }
   ],
   "source": [
    "df = df.tail(300)\n",
    "df"
   ]
  },
  {
   "cell_type": "markdown",
   "metadata": {
    "ExecuteTime": {
     "end_time": "2023-05-19T05:19:34.180052700Z",
     "start_time": "2023-05-19T05:19:33.974806800Z"
    }
   },
   "source": [
    "#### 20 日的移動平均"
   ],
   "outputs": [
    {
     "ename": "ImportError",
     "evalue": "matplotlib is required for plotting when the default backend \"matplotlib\" is selected.",
     "output_type": "error",
     "traceback": [
      "\u001B[1;31m---------------------------------------------------------------------------\u001B[0m",
      "\u001B[1;31mImportError\u001B[0m                               Traceback (most recent call last)",
      "Cell \u001B[1;32mIn[12], line 1\u001B[0m\n\u001B[1;32m----> 1\u001B[0m \u001B[43mdf\u001B[49m\u001B[38;5;241;43m.\u001B[39;49m\u001B[43mClose\u001B[49m\u001B[38;5;241;43m.\u001B[39;49m\u001B[43mplot\u001B[49m\u001B[43m(\u001B[49m\u001B[43m)\u001B[49m\n",
      "File \u001B[1;32m~\\.conda\\envs\\IMLP\\lib\\site-packages\\pandas\\plotting\\_core.py:920\u001B[0m, in \u001B[0;36mPlotAccessor.__call__\u001B[1;34m(self, *args, **kwargs)\u001B[0m\n\u001B[0;32m    919\u001B[0m \u001B[38;5;28;01mdef\u001B[39;00m \u001B[38;5;21m__call__\u001B[39m(\u001B[38;5;28mself\u001B[39m, \u001B[38;5;241m*\u001B[39margs, \u001B[38;5;241m*\u001B[39m\u001B[38;5;241m*\u001B[39mkwargs):\n\u001B[1;32m--> 920\u001B[0m     plot_backend \u001B[38;5;241m=\u001B[39m \u001B[43m_get_plot_backend\u001B[49m\u001B[43m(\u001B[49m\u001B[43mkwargs\u001B[49m\u001B[38;5;241;43m.\u001B[39;49m\u001B[43mpop\u001B[49m\u001B[43m(\u001B[49m\u001B[38;5;124;43m\"\u001B[39;49m\u001B[38;5;124;43mbackend\u001B[39;49m\u001B[38;5;124;43m\"\u001B[39;49m\u001B[43m,\u001B[49m\u001B[43m \u001B[49m\u001B[38;5;28;43;01mNone\u001B[39;49;00m\u001B[43m)\u001B[49m\u001B[43m)\u001B[49m\n\u001B[0;32m    922\u001B[0m     x, y, kind, kwargs \u001B[38;5;241m=\u001B[39m \u001B[38;5;28mself\u001B[39m\u001B[38;5;241m.\u001B[39m_get_call_args(\n\u001B[0;32m    923\u001B[0m         plot_backend\u001B[38;5;241m.\u001B[39m\u001B[38;5;18m__name__\u001B[39m, \u001B[38;5;28mself\u001B[39m\u001B[38;5;241m.\u001B[39m_parent, args, kwargs\n\u001B[0;32m    924\u001B[0m     )\n\u001B[0;32m    926\u001B[0m     kind \u001B[38;5;241m=\u001B[39m \u001B[38;5;28mself\u001B[39m\u001B[38;5;241m.\u001B[39m_kind_aliases\u001B[38;5;241m.\u001B[39mget(kind, kind)\n",
      "File \u001B[1;32m~\\.conda\\envs\\IMLP\\lib\\site-packages\\pandas\\plotting\\_core.py:1886\u001B[0m, in \u001B[0;36m_get_plot_backend\u001B[1;34m(backend)\u001B[0m\n\u001B[0;32m   1883\u001B[0m \u001B[38;5;28;01mif\u001B[39;00m backend_str \u001B[38;5;129;01min\u001B[39;00m _backends:\n\u001B[0;32m   1884\u001B[0m     \u001B[38;5;28;01mreturn\u001B[39;00m _backends[backend_str]\n\u001B[1;32m-> 1886\u001B[0m module \u001B[38;5;241m=\u001B[39m \u001B[43m_load_backend\u001B[49m\u001B[43m(\u001B[49m\u001B[43mbackend_str\u001B[49m\u001B[43m)\u001B[49m\n\u001B[0;32m   1887\u001B[0m _backends[backend_str] \u001B[38;5;241m=\u001B[39m module\n\u001B[0;32m   1888\u001B[0m \u001B[38;5;28;01mreturn\u001B[39;00m module\n",
      "File \u001B[1;32m~\\.conda\\envs\\IMLP\\lib\\site-packages\\pandas\\plotting\\_core.py:1817\u001B[0m, in \u001B[0;36m_load_backend\u001B[1;34m(backend)\u001B[0m\n\u001B[0;32m   1815\u001B[0m         module \u001B[38;5;241m=\u001B[39m importlib\u001B[38;5;241m.\u001B[39mimport_module(\u001B[38;5;124m\"\u001B[39m\u001B[38;5;124mpandas.plotting._matplotlib\u001B[39m\u001B[38;5;124m\"\u001B[39m)\n\u001B[0;32m   1816\u001B[0m     \u001B[38;5;28;01mexcept\u001B[39;00m \u001B[38;5;167;01mImportError\u001B[39;00m:\n\u001B[1;32m-> 1817\u001B[0m         \u001B[38;5;28;01mraise\u001B[39;00m \u001B[38;5;167;01mImportError\u001B[39;00m(\n\u001B[0;32m   1818\u001B[0m             \u001B[38;5;124m\"\u001B[39m\u001B[38;5;124mmatplotlib is required for plotting when the \u001B[39m\u001B[38;5;124m\"\u001B[39m\n\u001B[0;32m   1819\u001B[0m             \u001B[38;5;124m'\u001B[39m\u001B[38;5;124mdefault backend \u001B[39m\u001B[38;5;124m\"\u001B[39m\u001B[38;5;124mmatplotlib\u001B[39m\u001B[38;5;124m\"\u001B[39m\u001B[38;5;124m is selected.\u001B[39m\u001B[38;5;124m'\u001B[39m\n\u001B[0;32m   1820\u001B[0m         ) \u001B[38;5;28;01mfrom\u001B[39;00m \u001B[38;5;28;01mNone\u001B[39;00m\n\u001B[0;32m   1821\u001B[0m     \u001B[38;5;28;01mreturn\u001B[39;00m module\n\u001B[0;32m   1823\u001B[0m found_backend \u001B[38;5;241m=\u001B[39m \u001B[38;5;28;01mFalse\u001B[39;00m\n",
      "\u001B[1;31mImportError\u001B[0m: matplotlib is required for plotting when the default backend \"matplotlib\" is selected."
     ]
    }
   ],
   "execution_count": 12
  },
  {
   "cell_type": "code",
   "execution_count": 7,
   "metadata": {
    "ExecuteTime": {
     "end_time": "2023-05-19T07:02:36.659303400Z",
     "start_time": "2023-05-19T07:02:34.680739800Z"
    }
   },
   "outputs": [
    {
     "data": {
      "text/plain": "<Axes: xlabel='Date'>"
     },
     "execution_count": 7,
     "metadata": {},
     "output_type": "execute_result"
    },
    {
     "data": {
      "text/plain": "<Figure size 640x480 with 1 Axes>",
      "image/png": "[encoded data removed]"
     },
     "metadata": {},
     "output_type": "display_data"
    }
   ],
   "source": [
    "df.Close.plot()\n",
    "df.Close.rolling(20).mean().plot()"
   ]
  },
  {
   "cell_type": "markdown",
   "metadata": {},
   "source": [
    "#### 20 日和 60 日的移動平均"
   ]
  },
  {
   "cell_type": "code",
   "execution_count": 8,
   "metadata": {
    "ExecuteTime": {
     "end_time": "2023-05-19T07:02:38.847749700Z",
     "start_time": "2023-05-19T07:02:38.263578900Z"
    }
   },
   "outputs": [
    {
     "data": {
      "text/plain": "<Axes: xlabel='Date'>"
     },
     "execution_count": 8,
     "metadata": {},
     "output_type": "execute_result"
    },
    {
     "data": {
      "text/plain": "<Figure size 640x480 with 1 Axes>",
      "image/png": "[encoded data removed]"
     },
     "metadata": {},
     "output_type": "display_data"
    }
   ],
   "source": [
    "df.Close.plot(legend=True)\n",
    "df.Close.rolling(20).mean().plot(label=\"$MA_{20}$\",legend=True)\n",
    "df.Close.rolling(60).mean().plot(label=\"$MA_{60}$\",legend=True)"
   ]
  },
  {
   "cell_type": "markdown",
   "metadata": {},
   "source": [
    "#### 準備做預測\n",
    "\n",
    "我們用個非常天真的模型...\n",
    "\n",
    "![天真股票模型](images/naive.png)\n",
    "\n",
    "網路上說這是線性的 (可能嗎)!\n"
   ]
  },
  {
   "cell_type": "code",
   "execution_count": 9,
   "metadata": {
    "ExecuteTime": {
     "end_time": "2023-05-19T07:02:40.861525500Z",
     "start_time": "2023-05-19T07:02:40.839603800Z"
    }
   },
   "outputs": [
    {
     "data": {
      "text/plain": "300"
     },
     "execution_count": 9,
     "metadata": {},
     "output_type": "execute_result"
    }
   ],
   "source": [
    "close = df.Close.values\n",
    "len(close)"
   ]
  },
  {
   "cell_type": "code",
   "execution_count": 10,
   "metadata": {
    "ExecuteTime": {
     "end_time": "2023-05-19T07:02:42.797323600Z",
     "start_time": "2023-05-19T07:02:42.774311600Z"
    }
   },
   "outputs": [
    {
     "data": {
      "text/plain": "array([112.519997, 113.      , 113.050003, 113.889999, 114.059998,\n       116.050003, 116.300003, 117.339996, 116.980003, 117.629997,\n       117.550003, 117.470001, 117.120003, 117.059998, 116.599998,\n       117.650002, 118.25    , 115.589996, 114.480003, 113.720001,\n       113.540001, 111.489998, 111.589996, 109.830002, 108.839996,\n       110.410004, 111.059998, 110.879997, 107.790001, 108.43    ,\n       105.709999, 107.110001, 109.989998, 109.949997, 110.059998,\n       111.730003, 111.800003, 111.230003, 111.790001, 111.57    ,\n       111.459999, 110.519997, 109.489998, 109.900002, 109.110001,\n       109.949997, 111.029999, 112.120003, 113.949997, 113.300003,\n       115.190002, 115.190002, 115.82    , 115.970001, 116.639999,\n       116.949997, 117.059998, 116.290001, 116.519997, 117.260002,\n       116.760002, 116.730003, 115.82    , 116.150002, 116.019997,\n       116.610001, 117.910004, 118.989998, 119.110001, 119.75    ,\n       119.25    , 119.040001, 120.      , 119.989998, 119.779999,\n       120.      , 120.080002, 119.970001, 121.879997, 121.940002,\n       121.949997, 121.629997, 121.349998, 128.75    , 128.529999,\n       129.080002, 130.289993, 131.529999, 132.039993, 132.419998,\n       132.119995, 133.289993, 135.020004, 135.509995, 135.350006,\n       135.720001, 136.699997, 137.110001, 136.529999, 136.660004,\n       136.929993, 136.990005, 139.789993, 138.960007, 139.779999,\n       139.339996, 139.520004, 139.      , 138.679993, 139.139999,\n       139.199997, 138.990005, 140.460007, 140.690002, 139.990005,\n       141.460007, 139.839996, 141.419998, 140.919998, 140.639999,\n       140.880005, 143.800003, 144.119995, 143.929993, 143.660004,\n       143.699997, 144.770004, 144.020004, 143.660004, 143.339996,\n       143.169998, 141.630005, 141.800003, 141.050003, 141.830002,\n       141.199997, 140.679993, 142.440002, 142.270004, 143.639999,\n       144.529999, 143.679993, 143.789993, 143.649994, 146.580002,\n       147.509995, 147.059998, 146.529999, 148.960007, 153.009995,\n       153.990005, 153.259995, 153.949997, 156.100006, 155.699997,\n       155.470001, 150.25    , 152.539993, 153.059998, 153.990005,\n       153.800003, 153.339996, 153.869995, 153.610001, 153.669998,\n       152.759995, 153.179993, 155.449997, 153.929993, 154.449997,\n       155.369995, 154.990005, 148.979996, 145.419998, 146.589996,\n       145.160004, 144.289993, 142.270004, 146.339996, 145.009995,\n       145.869995, 145.630005, 146.279999, 145.820007, 143.729996,\n       145.830002, 143.679993, 144.020004, 143.5     , 144.089996,\n       142.729996, 144.179993, 145.059998, 145.529999, 145.740005,\n       147.770004, 149.039993, 149.559998, 150.080002, 151.020004,\n       150.339996, 150.270004, 152.089996, 152.740005, 153.460007,\n       150.559998, 149.5     , 148.729996, 150.050003, 157.139999,\n       155.570007, 156.389999, 158.809998, 160.080002, 161.059998,\n       155.320007, 157.479996, 159.850006, 161.600006, 160.949997,\n       157.860001, 157.5     , 157.210007, 159.779999, 159.979996,\n       159.270004, 159.860001, 161.470001, 162.910004, 163.350006,\n       164.      , 164.050003, 162.080002, 161.910004, 161.259995,\n       158.630005, 161.5     , 160.860001, 159.649994, 158.279999,\n       159.880005, 158.669998, 158.729996, 156.070007, 153.389999,\n       151.889999, 150.550003, 153.139999, 154.229996, 153.279999,\n       154.119995, 153.809998, 154.479996, 153.479996, 155.389999,\n       155.300003, 155.839996, 155.899994, 156.550003, 156.      ,\n       156.990005, 159.880005, 160.470001, 159.759995, 155.979996,\n       156.25    , 156.169998, 157.100006, 156.410004, 157.410004,\n       163.050003, 166.720001, 169.039993, 166.889999, 168.110001,\n       172.5     , 174.25    , 174.809998, 176.240005, 175.880005,\n       174.669998, 173.970001, 171.339996, 169.080002, 171.100006,\n       170.149994, 169.979996, 173.139999, 174.960007, 174.970001,\n       174.089996, 173.070007, 169.479996, 171.850006, 171.050003,\n       169.800003, 169.639999, 169.009995, 169.320007])"
     },
     "execution_count": 10,
     "metadata": {},
     "output_type": "execute_result"
    }
   ],
   "source": [
    "x = close[:-1]\n",
    "len(x)\n",
    "x\n"
   ]
  },
  {
   "cell_type": "code",
   "execution_count": 11,
   "metadata": {
    "ExecuteTime": {
     "end_time": "2023-05-19T07:02:47.791080100Z",
     "start_time": "2023-05-19T07:02:47.758170300Z"
    }
   },
   "outputs": [
    {
     "data": {
      "text/plain": "array([113.      , 113.050003, 113.889999, 114.059998, 116.050003,\n       116.300003, 117.339996, 116.980003, 117.629997, 117.550003,\n       117.470001, 117.120003, 117.059998, 116.599998, 117.650002,\n       118.25    , 115.589996, 114.480003, 113.720001, 113.540001,\n       111.489998, 111.589996, 109.830002, 108.839996, 110.410004,\n       111.059998, 110.879997, 107.790001, 108.43    , 105.709999,\n       107.110001, 109.989998, 109.949997, 110.059998, 111.730003,\n       111.800003, 111.230003, 111.790001, 111.57    , 111.459999,\n       110.519997, 109.489998, 109.900002, 109.110001, 109.949997,\n       111.029999, 112.120003, 113.949997, 113.300003, 115.190002,\n       115.190002, 115.82    , 115.970001, 116.639999, 116.949997,\n       117.059998, 116.290001, 116.519997, 117.260002, 116.760002,\n       116.730003, 115.82    , 116.150002, 116.019997, 116.610001,\n       117.910004, 118.989998, 119.110001, 119.75    , 119.25    ,\n       119.040001, 120.      , 119.989998, 119.779999, 120.      ,\n       120.080002, 119.970001, 121.879997, 121.940002, 121.949997,\n       121.629997, 121.349998, 128.75    , 128.529999, 129.080002,\n       130.289993, 131.529999, 132.039993, 132.419998, 132.119995,\n       133.289993, 135.020004, 135.509995, 135.350006, 135.720001,\n       136.699997, 137.110001, 136.529999, 136.660004, 136.929993,\n       136.990005, 139.789993, 138.960007, 139.779999, 139.339996,\n       139.520004, 139.      , 138.679993, 139.139999, 139.199997,\n       138.990005, 140.460007, 140.690002, 139.990005, 141.460007,\n       139.839996, 141.419998, 140.919998, 140.639999, 140.880005,\n       143.800003, 144.119995, 143.929993, 143.660004, 143.699997,\n       144.770004, 144.020004, 143.660004, 143.339996, 143.169998,\n       141.630005, 141.800003, 141.050003, 141.830002, 141.199997,\n       140.679993, 142.440002, 142.270004, 143.639999, 144.529999,\n       143.679993, 143.789993, 143.649994, 146.580002, 147.509995,\n       147.059998, 146.529999, 148.960007, 153.009995, 153.990005,\n       153.259995, 153.949997, 156.100006, 155.699997, 155.470001,\n       150.25    , 152.539993, 153.059998, 153.990005, 153.800003,\n       153.339996, 153.869995, 153.610001, 153.669998, 152.759995,\n       153.179993, 155.449997, 153.929993, 154.449997, 155.369995,\n       154.990005, 148.979996, 145.419998, 146.589996, 145.160004,\n       144.289993, 142.270004, 146.339996, 145.009995, 145.869995,\n       145.630005, 146.279999, 145.820007, 143.729996, 145.830002,\n       143.679993, 144.020004, 143.5     , 144.089996, 142.729996,\n       144.179993, 145.059998, 145.529999, 145.740005, 147.770004,\n       149.039993, 149.559998, 150.080002, 151.020004, 150.339996,\n       150.270004, 152.089996, 152.740005, 153.460007, 150.559998,\n       149.5     , 148.729996, 150.050003, 157.139999, 155.570007,\n       156.389999, 158.809998, 160.080002, 161.059998, 155.320007,\n       157.479996, 159.850006, 161.600006, 160.949997, 157.860001,\n       157.5     , 157.210007, 159.779999, 159.979996, 159.270004,\n       159.860001, 161.470001, 162.910004, 163.350006, 164.      ,\n       164.050003, 162.080002, 161.910004, 161.259995, 158.630005,\n       161.5     , 160.860001, 159.649994, 158.279999, 159.880005,\n       158.669998, 158.729996, 156.070007, 153.389999, 151.889999,\n       150.550003, 153.139999, 154.229996, 153.279999, 154.119995,\n       153.809998, 154.479996, 153.479996, 155.389999, 155.300003,\n       155.839996, 155.899994, 156.550003, 156.      , 156.990005,\n       159.880005, 160.470001, 159.759995, 155.979996, 156.25    ,\n       156.169998, 157.100006, 156.410004, 157.410004, 163.050003,\n       166.720001, 169.039993, 166.889999, 168.110001, 172.5     ,\n       174.25    , 174.809998, 176.240005, 175.880005, 174.669998,\n       173.970001, 171.339996, 169.080002, 171.100006, 170.149994,\n       169.979996, 173.139999, 174.960007, 174.970001, 174.089996,\n       173.070007, 169.479996, 171.850006, 171.050003, 169.800003,\n       169.639999, 169.009995, 169.320007, 169.369995])"
     },
     "execution_count": 11,
     "metadata": {},
     "output_type": "execute_result"
    }
   ],
   "source": [
    "y = close[1:]\n",
    "len(y)\n",
    "y"
   ]
  },
  {
   "cell_type": "code",
   "execution_count": 15,
   "metadata": {
    "ExecuteTime": {
     "end_time": "2023-05-19T07:07:33.070801600Z",
     "start_time": "2023-05-19T07:07:32.850606400Z"
    }
   },
   "outputs": [
    {
     "data": {
      "text/plain": "<matplotlib.collections.PathCollection at 0x1ca4643cf10>"
     },
     "execution_count": 15,
     "metadata": {},
     "output_type": "execute_result"
    },
    {
     "data": {
      "text/plain": "<Figure size 640x480 with 1 Axes>",
      "image/png": "[encoded data removed]"
     },
     "metadata": {},
     "output_type": "display_data"
    }
   ],
   "source": [
    "plt.scatter(x, y)\n"
   ]
  },
  {
   "cell_type": "markdown",
   "metadata": {},
   "source": [
    "哦, 真的有點像線性的, 我們之後用線性迴歸試試看。"
   ]
  },
  {
   "cell_type": "markdown",
   "metadata": {},
   "source": [
    "## 9 手工打造一個 DataFrame*\n",
    "\n",
    "有時我們用手工打造一個簡單的 DataFrame, 可以更理解整個結構。其實很容易, 一個 DataFrame 基本上就包含兩個主要部份:\n",
    "\n",
    "* 資料本身: 通常一個二維陣列 (矩陣)\n",
    "* 行、列的名稱\n",
    "\n",
    "我們來個簡單的小例子。"
   ]
  },
  {
   "cell_type": "code",
   "execution_count": 17,
   "metadata": {
    "ExecuteTime": {
     "end_time": "2023-05-19T07:09:47.570224900Z",
     "start_time": "2023-05-19T07:09:47.551734100Z"
    }
   },
   "outputs": [
    {
     "data": {
      "text/plain": "array([[ 1.14341513,  0.26801685, -0.00585866],\n       [-0.02234208,  1.27481684, -0.69372542],\n       [ 0.17149579, -1.02329095, -1.01506941],\n       [ 1.30021833,  1.93309783,  0.56196966]])"
     },
     "execution_count": 17,
     "metadata": {},
     "output_type": "execute_result"
    }
   ],
   "source": [
    "mydata = np.random.randn(4,3)\n",
    "mydata"
   ]
  },
  {
   "cell_type": "markdown",
   "metadata": {},
   "source": [
    "把行列的名字放進去, 就成一個 DataFrame。我們列的部份先讓 Python 自己產生。"
   ]
  },
  {
   "cell_type": "code",
   "execution_count": 19,
   "metadata": {
    "ExecuteTime": {
     "end_time": "2023-05-19T07:16:12.056278900Z",
     "start_time": "2023-05-19T07:16:12.029375800Z"
    }
   },
   "outputs": [
    {
     "data": {
      "text/plain": "          A         B         C\n0  1.143415  0.268017 -0.005859\n1 -0.022342  1.274817 -0.693725\n2  0.171496 -1.023291 -1.015069\n3  1.300218  1.933098  0.561970",
      "text/html": "<div>\n<style scoped>\n    .dataframe tbody tr th:only-of-type {\n        vertical-align: middle;\n    }\n\n    .dataframe tbody tr th {\n        vertical-align: top;\n    }\n\n    .dataframe thead th {\n        text-align: right;\n    }\n</style>\n<table border=\"1\" class=\"dataframe\">\n  <thead>\n    <tr style=\"text-align: right;\">\n      <th></th>\n      <th>A</th>\n      <th>B</th>\n      <th>C</th>\n    </tr>\n  </thead>\n  <tbody>\n    <tr>\n      <th>0</th>\n      <td>1.143415</td>\n      <td>0.268017</td>\n      <td>-0.005859</td>\n    </tr>\n    <tr>\n      <th>1</th>\n      <td>-0.022342</td>\n      <td>1.274817</td>\n      <td>-0.693725</td>\n    </tr>\n    <tr>\n      <th>2</th>\n      <td>0.171496</td>\n      <td>-1.023291</td>\n      <td>-1.015069</td>\n    </tr>\n    <tr>\n      <th>3</th>\n      <td>1.300218</td>\n      <td>1.933098</td>\n      <td>0.561970</td>\n    </tr>\n  </tbody>\n</table>\n</div>"
     },
     "execution_count": 19,
     "metadata": {},
     "output_type": "execute_result"
    }
   ],
   "source": [
    "df2 = pd.DataFrame(mydata, columns=list(\"ABC\"))\n",
    "df2"
   ]
  },
  {
   "cell_type": "markdown",
   "metadata": {},
   "source": [
    "#### 兩個表格上下貼起來\n",
    "\n",
    "我們再來生一個 DataFrame, 再「貼」起來。"
   ]
  },
  {
   "cell_type": "code",
   "execution_count": 20,
   "metadata": {
    "ExecuteTime": {
     "end_time": "2023-05-19T07:16:37.176095600Z",
     "start_time": "2023-05-19T07:16:37.135366100Z"
    }
   },
   "outputs": [
    {
     "data": {
      "text/plain": "          A         B         C\n0 -0.398039 -0.563304  0.150619\n1 -0.588263 -1.285030  0.341554\n2 -0.384109 -0.788721 -0.596858",
      "text/html": "<div>\n<style scoped>\n    .dataframe tbody tr th:only-of-type {\n        vertical-align: middle;\n    }\n\n    .dataframe tbody tr th {\n        vertical-align: top;\n    }\n\n    .dataframe thead th {\n        text-align: right;\n    }\n</style>\n<table border=\"1\" class=\"dataframe\">\n  <thead>\n    <tr style=\"text-align: right;\">\n      <th></th>\n      <th>A</th>\n      <th>B</th>\n      <th>C</th>\n    </tr>\n  </thead>\n  <tbody>\n    <tr>\n      <th>0</th>\n      <td>-0.398039</td>\n      <td>-0.563304</td>\n      <td>0.150619</td>\n    </tr>\n    <tr>\n      <th>1</th>\n      <td>-0.588263</td>\n      <td>-1.285030</td>\n      <td>0.341554</td>\n    </tr>\n    <tr>\n      <th>2</th>\n      <td>-0.384109</td>\n      <td>-0.788721</td>\n      <td>-0.596858</td>\n    </tr>\n  </tbody>\n</table>\n</div>"
     },
     "execution_count": 20,
     "metadata": {},
     "output_type": "execute_result"
    }
   ],
   "source": [
    "df3 = pd.DataFrame(np.random.randn(3,3), columns=list(\"ABC\"))\n",
    "df3"
   ]
  },
  {
   "cell_type": "code",
   "execution_count": 22,
   "metadata": {
    "ExecuteTime": {
     "end_time": "2023-05-19T07:19:13.978295100Z",
     "start_time": "2023-05-19T07:19:13.943096800Z"
    }
   },
   "outputs": [
    {
     "data": {
      "text/plain": "          A         B         C\n0  1.143415  0.268017 -0.005859\n1 -0.022342  1.274817 -0.693725\n2  0.171496 -1.023291 -1.015069\n3  1.300218  1.933098  0.561970\n0 -0.398039 -0.563304  0.150619\n1 -0.588263 -1.285030  0.341554\n2 -0.384109 -0.788721 -0.596858",
      "text/html": "<div>\n<style scoped>\n    .dataframe tbody tr th:only-of-type {\n        vertical-align: middle;\n    }\n\n    .dataframe tbody tr th {\n        vertical-align: top;\n    }\n\n    .dataframe thead th {\n        text-align: right;\n    }\n</style>\n<table border=\"1\" class=\"dataframe\">\n  <thead>\n    <tr style=\"text-align: right;\">\n      <th></th>\n      <th>A</th>\n      <th>B</th>\n      <th>C</th>\n    </tr>\n  </thead>\n  <tbody>\n    <tr>\n      <th>0</th>\n      <td>1.143415</td>\n      <td>0.268017</td>\n      <td>-0.005859</td>\n    </tr>\n    <tr>\n      <th>1</th>\n      <td>-0.022342</td>\n      <td>1.274817</td>\n      <td>-0.693725</td>\n    </tr>\n    <tr>\n      <th>2</th>\n      <td>0.171496</td>\n      <td>-1.023291</td>\n      <td>-1.015069</td>\n    </tr>\n    <tr>\n      <th>3</th>\n      <td>1.300218</td>\n      <td>1.933098</td>\n      <td>0.561970</td>\n    </tr>\n    <tr>\n      <th>0</th>\n      <td>-0.398039</td>\n      <td>-0.563304</td>\n      <td>0.150619</td>\n    </tr>\n    <tr>\n      <th>1</th>\n      <td>-0.588263</td>\n      <td>-1.285030</td>\n      <td>0.341554</td>\n    </tr>\n    <tr>\n      <th>2</th>\n      <td>-0.384109</td>\n      <td>-0.788721</td>\n      <td>-0.596858</td>\n    </tr>\n  </tbody>\n</table>\n</div>"
     },
     "execution_count": 22,
     "metadata": {},
     "output_type": "execute_result"
    }
   ],
   "source": [
    "df4 = pd.concat([df2, df3], axis = 0)\n",
    "df4"
   ]
  },
  {
   "cell_type": "markdown",
   "metadata": {},
   "source": [
    "前面我們弄得亂七八糟的 index 重設一下。"
   ]
  },
  {
   "cell_type": "code",
   "execution_count": 24,
   "metadata": {
    "ExecuteTime": {
     "end_time": "2023-05-19T07:21:22.534702Z",
     "start_time": "2023-05-19T07:21:22.506082100Z"
    }
   },
   "outputs": [
    {
     "data": {
      "text/plain": "          A         B         C\n0  1.143415  0.268017 -0.005859\n1 -0.022342  1.274817 -0.693725\n2  0.171496 -1.023291 -1.015069\n3  1.300218  1.933098  0.561970\n4 -0.398039 -0.563304  0.150619\n5 -0.588263 -1.285030  0.341554\n6 -0.384109 -0.788721 -0.596858",
      "text/html": "<div>\n<style scoped>\n    .dataframe tbody tr th:only-of-type {\n        vertical-align: middle;\n    }\n\n    .dataframe tbody tr th {\n        vertical-align: top;\n    }\n\n    .dataframe thead th {\n        text-align: right;\n    }\n</style>\n<table border=\"1\" class=\"dataframe\">\n  <thead>\n    <tr style=\"text-align: right;\">\n      <th></th>\n      <th>A</th>\n      <th>B</th>\n      <th>C</th>\n    </tr>\n  </thead>\n  <tbody>\n    <tr>\n      <th>0</th>\n      <td>1.143415</td>\n      <td>0.268017</td>\n      <td>-0.005859</td>\n    </tr>\n    <tr>\n      <th>1</th>\n      <td>-0.022342</td>\n      <td>1.274817</td>\n      <td>-0.693725</td>\n    </tr>\n    <tr>\n      <th>2</th>\n      <td>0.171496</td>\n      <td>-1.023291</td>\n      <td>-1.015069</td>\n    </tr>\n    <tr>\n      <th>3</th>\n      <td>1.300218</td>\n      <td>1.933098</td>\n      <td>0.561970</td>\n    </tr>\n    <tr>\n      <th>4</th>\n      <td>-0.398039</td>\n      <td>-0.563304</td>\n      <td>0.150619</td>\n    </tr>\n    <tr>\n      <th>5</th>\n      <td>-0.588263</td>\n      <td>-1.285030</td>\n      <td>0.341554</td>\n    </tr>\n    <tr>\n      <th>6</th>\n      <td>-0.384109</td>\n      <td>-0.788721</td>\n      <td>-0.596858</td>\n    </tr>\n  </tbody>\n</table>\n</div>"
     },
     "execution_count": 24,
     "metadata": {},
     "output_type": "execute_result"
    }
   ],
   "source": [
    "df4.index = range(7)\n",
    "df4"
   ]
  },
  {
   "cell_type": "markdown",
   "metadata": {},
   "source": [
    "#### 横向的貼"
   ]
  },
  {
   "cell_type": "code",
   "execution_count": 25,
   "metadata": {
    "ExecuteTime": {
     "end_time": "2023-05-19T07:22:01.023722600Z",
     "start_time": "2023-05-19T07:22:00.998086600Z"
    }
   },
   "outputs": [
    {
     "data": {
      "text/plain": "          A         B         C         A         B         C\n0  1.143415  0.268017 -0.005859 -0.398039 -0.563304  0.150619\n1 -0.022342  1.274817 -0.693725 -0.588263 -1.285030  0.341554\n2  0.171496 -1.023291 -1.015069 -0.384109 -0.788721 -0.596858\n3  1.300218  1.933098  0.561970       NaN       NaN       NaN",
      "text/html": "<div>\n<style scoped>\n    .dataframe tbody tr th:only-of-type {\n        vertical-align: middle;\n    }\n\n    .dataframe tbody tr th {\n        vertical-align: top;\n    }\n\n    .dataframe thead th {\n        text-align: right;\n    }\n</style>\n<table border=\"1\" class=\"dataframe\">\n  <thead>\n    <tr style=\"text-align: right;\">\n      <th></th>\n      <th>A</th>\n      <th>B</th>\n      <th>C</th>\n      <th>A</th>\n      <th>B</th>\n      <th>C</th>\n    </tr>\n  </thead>\n  <tbody>\n    <tr>\n      <th>0</th>\n      <td>1.143415</td>\n      <td>0.268017</td>\n      <td>-0.005859</td>\n      <td>-0.398039</td>\n      <td>-0.563304</td>\n      <td>0.150619</td>\n    </tr>\n    <tr>\n      <th>1</th>\n      <td>-0.022342</td>\n      <td>1.274817</td>\n      <td>-0.693725</td>\n      <td>-0.588263</td>\n      <td>-1.285030</td>\n      <td>0.341554</td>\n    </tr>\n    <tr>\n      <th>2</th>\n      <td>0.171496</td>\n      <td>-1.023291</td>\n      <td>-1.015069</td>\n      <td>-0.384109</td>\n      <td>-0.788721</td>\n      <td>-0.596858</td>\n    </tr>\n    <tr>\n      <th>3</th>\n      <td>1.300218</td>\n      <td>1.933098</td>\n      <td>0.561970</td>\n      <td>NaN</td>\n      <td>NaN</td>\n      <td>NaN</td>\n    </tr>\n  </tbody>\n</table>\n</div>"
     },
     "execution_count": 25,
     "metadata": {},
     "output_type": "execute_result"
    }
   ],
   "source": [
    "df5 = pd.concat([df2, df3], axis = 1)\n",
    "df5"
   ]
  },
  {
   "cell_type": "markdown",
   "metadata": {},
   "source": [
    "等等, 這大小好像不太對也可以嗎? 答案是可以的!"
   ]
  },
  {
   "cell_type": "markdown",
   "metadata": {},
   "source": [
    "#### 大一點的例子\n",
    "\n",
    "我們來做前面「假的」學測資料。首先要有「假的」同學名單, 如果有興趣產生很多名字, 可以用這個服務。\n",
    "\n",
    "[中文姓名產生器](http://www.richyli.com/name/index.asp)"
   ]
  },
  {
   "cell_type": "code",
   "execution_count": 30,
   "metadata": {
    "ExecuteTime": {
     "end_time": "2023-05-19T07:27:53.150525100Z",
     "start_time": "2023-05-19T07:27:53.084685100Z"
    }
   },
   "outputs": [],
   "source": [
    "df_names = pd.read_csv(\"data/names.csv\", names = [\"姓名\"])\n",
    "df_grades = pd.read_csv(\"data/grade2.csv\")"
   ]
  },
  {
   "cell_type": "code",
   "execution_count": 31,
   "outputs": [
    {
     "data": {
      "text/plain": "    國文  英文  數學  社會  自然\n0   14  11  12  15   7\n1    9  11  15   7   7\n2    9  10  14  13   8\n3   14   7  10  13   7\n4    9   9  10  13  13\n..  ..  ..  ..  ..  ..\n95  11   6  10  12  10\n96   7  13  14   8  14\n97  13  14  11   6   7\n98  10   6  13   6  15\n99   7   7   6   8  14\n\n[100 rows x 5 columns]",
      "text/html": "<div>\n<style scoped>\n    .dataframe tbody tr th:only-of-type {\n        vertical-align: middle;\n    }\n\n    .dataframe tbody tr th {\n        vertical-align: top;\n    }\n\n    .dataframe thead th {\n        text-align: right;\n    }\n</style>\n<table border=\"1\" class=\"dataframe\">\n  <thead>\n    <tr style=\"text-align: right;\">\n      <th></th>\n      <th>國文</th>\n      <th>英文</th>\n      <th>數學</th>\n      <th>社會</th>\n      <th>自然</th>\n    </tr>\n  </thead>\n  <tbody>\n    <tr>\n      <th>0</th>\n      <td>14</td>\n      <td>11</td>\n      <td>12</td>\n      <td>15</td>\n      <td>7</td>\n    </tr>\n    <tr>\n      <th>1</th>\n      <td>9</td>\n      <td>11</td>\n      <td>15</td>\n      <td>7</td>\n      <td>7</td>\n    </tr>\n    <tr>\n      <th>2</th>\n      <td>9</td>\n      <td>10</td>\n      <td>14</td>\n      <td>13</td>\n      <td>8</td>\n    </tr>\n    <tr>\n      <th>3</th>\n      <td>14</td>\n      <td>7</td>\n      <td>10</td>\n      <td>13</td>\n      <td>7</td>\n    </tr>\n    <tr>\n      <th>4</th>\n      <td>9</td>\n      <td>9</td>\n      <td>10</td>\n      <td>13</td>\n      <td>13</td>\n    </tr>\n    <tr>\n      <th>...</th>\n      <td>...</td>\n      <td>...</td>\n      <td>...</td>\n      <td>...</td>\n      <td>...</td>\n    </tr>\n    <tr>\n      <th>95</th>\n      <td>11</td>\n      <td>6</td>\n      <td>10</td>\n      <td>12</td>\n      <td>10</td>\n    </tr>\n    <tr>\n      <th>96</th>\n      <td>7</td>\n      <td>13</td>\n      <td>14</td>\n      <td>8</td>\n      <td>14</td>\n    </tr>\n    <tr>\n      <th>97</th>\n      <td>13</td>\n      <td>14</td>\n      <td>11</td>\n      <td>6</td>\n      <td>7</td>\n    </tr>\n    <tr>\n      <th>98</th>\n      <td>10</td>\n      <td>6</td>\n      <td>13</td>\n      <td>6</td>\n      <td>15</td>\n    </tr>\n    <tr>\n      <th>99</th>\n      <td>7</td>\n      <td>7</td>\n      <td>6</td>\n      <td>8</td>\n      <td>14</td>\n    </tr>\n  </tbody>\n</table>\n<p>100 rows × 5 columns</p>\n</div>"
     },
     "execution_count": 31,
     "metadata": {},
     "output_type": "execute_result"
    }
   ],
   "source": [
    "df_grades = pd.DataFrame(np.random.randint(6, 16, (100, 5)),\n",
    "                        columns=['國文', '英文', '數學', '社會', '自然'])\n",
    "df_grades"
   ],
   "metadata": {
    "collapsed": false,
    "ExecuteTime": {
     "end_time": "2023-05-19T07:28:09.669581600Z",
     "start_time": "2023-05-19T07:28:09.651402100Z"
    }
   }
  },
  {
   "cell_type": "code",
   "execution_count": 34,
   "metadata": {
    "ExecuteTime": {
     "end_time": "2023-05-19T07:31:56.301425200Z",
     "start_time": "2023-05-19T07:31:56.285183600Z"
    }
   },
   "outputs": [],
   "source": [
    "df_grades.to_csv(\"data/grade2.csv\", index = 0)"
   ]
  },
  {
   "cell_type": "code",
   "execution_count": 35,
   "outputs": [
    {
     "data": {
      "text/plain": "     姓名  國文  英文  數學  社會  自然\n0   羅雅慧  14  11  12  15   7\n1   王紹尹   9  11  15   7   7\n2   黃季坤   9  10  14  13   8\n3   許正書  14   7  10  13   7\n4   張鈞蓮   9   9  10  13  13\n..  ...  ..  ..  ..  ..  ..\n95  陳君生  11   6  10  12  10\n96  曾桂甫   7  13  14   8  14\n97  林欣怡  13  14  11   6   7\n98  林佳霖  10   6  13   6  15\n99  胡筱芸   7   7   6   8  14\n\n[100 rows x 6 columns]",
      "text/html": "<div>\n<style scoped>\n    .dataframe tbody tr th:only-of-type {\n        vertical-align: middle;\n    }\n\n    .dataframe tbody tr th {\n        vertical-align: top;\n    }\n\n    .dataframe thead th {\n        text-align: right;\n    }\n</style>\n<table border=\"1\" class=\"dataframe\">\n  <thead>\n    <tr style=\"text-align: right;\">\n      <th></th>\n      <th>姓名</th>\n      <th>國文</th>\n      <th>英文</th>\n      <th>數學</th>\n      <th>社會</th>\n      <th>自然</th>\n    </tr>\n  </thead>\n  <tbody>\n    <tr>\n      <th>0</th>\n      <td>羅雅慧</td>\n      <td>14</td>\n      <td>11</td>\n      <td>12</td>\n      <td>15</td>\n      <td>7</td>\n    </tr>\n    <tr>\n      <th>1</th>\n      <td>王紹尹</td>\n      <td>9</td>\n      <td>11</td>\n      <td>15</td>\n      <td>7</td>\n      <td>7</td>\n    </tr>\n    <tr>\n      <th>2</th>\n      <td>黃季坤</td>\n      <td>9</td>\n      <td>10</td>\n      <td>14</td>\n      <td>13</td>\n      <td>8</td>\n    </tr>\n    <tr>\n      <th>3</th>\n      <td>許正書</td>\n      <td>14</td>\n      <td>7</td>\n      <td>10</td>\n      <td>13</td>\n      <td>7</td>\n    </tr>\n    <tr>\n      <th>4</th>\n      <td>張鈞蓮</td>\n      <td>9</td>\n      <td>9</td>\n      <td>10</td>\n      <td>13</td>\n      <td>13</td>\n    </tr>\n    <tr>\n      <th>...</th>\n      <td>...</td>\n      <td>...</td>\n      <td>...</td>\n      <td>...</td>\n      <td>...</td>\n      <td>...</td>\n    </tr>\n    <tr>\n      <th>95</th>\n      <td>陳君生</td>\n      <td>11</td>\n      <td>6</td>\n      <td>10</td>\n      <td>12</td>\n      <td>10</td>\n    </tr>\n    <tr>\n      <th>96</th>\n      <td>曾桂甫</td>\n      <td>7</td>\n      <td>13</td>\n      <td>14</td>\n      <td>8</td>\n      <td>14</td>\n    </tr>\n    <tr>\n      <th>97</th>\n      <td>林欣怡</td>\n      <td>13</td>\n      <td>14</td>\n      <td>11</td>\n      <td>6</td>\n      <td>7</td>\n    </tr>\n    <tr>\n      <th>98</th>\n      <td>林佳霖</td>\n      <td>10</td>\n      <td>6</td>\n      <td>13</td>\n      <td>6</td>\n      <td>15</td>\n    </tr>\n    <tr>\n      <th>99</th>\n      <td>胡筱芸</td>\n      <td>7</td>\n      <td>7</td>\n      <td>6</td>\n      <td>8</td>\n      <td>14</td>\n    </tr>\n  </tbody>\n</table>\n<p>100 rows × 6 columns</p>\n</div>"
     },
     "execution_count": 35,
     "metadata": {},
     "output_type": "execute_result"
    }
   ],
   "source": [
    "df_score = pd.concat([df_names, df_grades], axis = 1)\n",
    "df_score"
   ],
   "metadata": {
    "collapsed": false,
    "ExecuteTime": {
     "end_time": "2023-05-19T07:31:57.542454200Z",
     "start_time": "2023-05-19T07:31:57.505607300Z"
    }
   }
  }
 ],
 "metadata": {
  "anaconda-cloud": {},
  "kernelspec": {
   "display_name": "Python 3",
   "language": "python",
   "name": "python3"
  },
  "language_info": {
   "codemirror_mode": {
    "name": "ipython",
    "version": 3
   },
   "file_extension": ".py",
   "mimetype": "text/x-python",
   "name": "python",
   "nbconvert_exporter": "python",
   "pygments_lexer": "ipython3",
   "version": "3.8.8"
  }
 },
 "nbformat": 4,
 "nbformat_minor": 1
}
