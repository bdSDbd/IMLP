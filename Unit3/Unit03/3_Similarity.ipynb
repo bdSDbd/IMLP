{
 "cells": [
  {
   "cell_type": "markdown",
   "metadata": {},
   "source": [
    "## Similarity \n",
    "manhattan_distance:  $$d(x,y)=\\sum^n_{i=1}|(x_i - y_i)|$$\n",
    "Euclidean :  $$d(x,y)=\\sqrt{\\sum^n_{i=1}(x_i - y_i)^2}$$\n",
    "Cosine:  $$\\theta(x,y)=\\frac{x \\bullet y}{ \\sqrt{x \\bullet x} \\sqrt{y \\bullet y}}$$\n",
    "\n",
    "使用numpy函數 ->\n",
    "Q: x1y1,x2y2哪個較不相關?\n",
    "\n",
    "x1 = [0,5]\n",
    "y1 = [1,5]\n",
    "\n",
    "x2 = [0,5]\n",
    "y2 = [100,5]\n",
    "\n"
   ]
  },
  {
   "cell_type": "code",
   "execution_count": 1,
   "metadata": {
    "ExecuteTime": {
     "end_time": "2023-06-12T11:26:02.043325500Z",
     "start_time": "2023-06-12T11:26:01.880147400Z"
    }
   },
   "outputs": [],
   "source": [
    "import numpy as np\n",
    "def manhattan_distance(x,y):\n",
    "    d1=np.sum(np.abs(x-y))\n",
    "def euclidean_distance(x,y):\n",
    "    return np.sqrt(np.sum(x-y) ** 2)\n",
    "def cosine_similarity(x,y):\n",
    "    return np.dot(x,y) / (np.sqrt(np.dot(x,x)) * np.sqrt(np.dot(y,y)))"
   ]
  },
  {
   "cell_type": "code",
   "execution_count": 2,
   "metadata": {
    "ExecuteTime": {
     "end_time": "2023-06-12T11:26:09.314879200Z",
     "start_time": "2023-06-12T11:26:09.296602Z"
    }
   },
   "outputs": [
    {
     "name": "stdout",
     "output_type": "stream",
     "text": [
      "x=[0,5],y=[1,5]\n",
      "歐式距離(x1,y1)=  1.0\n",
      "cos距離(x1,y1)=  0.9805806756909201\n",
      "\n",
      "x=[100,5],y=[1,5]\n",
      "歐式距離(x2,y2)=  95.0\n",
      "cos距離(x2,y2)=  1.0\n",
      "\n",
      "cos值越大 角度越小 表示很有相關\n",
      "cos值越小 角度越大 表示越不相關 \n"
     ]
    }
   ],
   "source": [
    "X1 = np.array([0,5])\n",
    "Y1 = np.array([1,5])\n",
    "print('x=[0,5],y=[1,5]')\n",
    "print(\"歐式距離(x1,y1)= \",euclidean_distance(X1,Y1))\n",
    "print(\"cos距離(x1,y1)= \",cosine_similarity(X1,Y1))\n",
    "print('\\nx=[100,5],y=[1,5]')\n",
    "\n",
    "X2 = np.array([0,5])\n",
    "Y2 = np.array([0,100])\n",
    "print(\"歐式距離(x2,y2)= \",euclidean_distance(X2,Y2))\n",
    "print(\"cos距離(x2,y2)= \",cosine_similarity(X2,Y2))\n",
    "print()\n",
    "print(\"cos值越大 角度越小 表示很有相關\")\n",
    "print(\"cos值越小 角度越大 表示越不相關 \")\n"
   ]
  },
  {
   "cell_type": "code",
   "execution_count": 3,
   "metadata": {
    "ExecuteTime": {
     "end_time": "2023-06-12T11:31:09.484951100Z",
     "start_time": "2023-06-12T11:31:09.453662Z"
    }
   },
   "outputs": [
    {
     "name": "stdout",
     "output_type": "stream",
     "text": [
      "================================\n",
      "三維\n",
      "A=[99  1  1],B=[0 1 1],C=[100   0   0]\n",
      "歐式距離(A,B)=  99.0\n",
      "歐式距離(A,C)=  1.0\n",
      "cos距離(A,B)=  0.014283528198687934\n",
      "cos距離(A,C)=  0.9998979852075898\n"
     ]
    }
   ],
   "source": [
    "print(\"================================\")\n",
    "print(\"三維\")\n",
    "A = np.array([99,1,1])\n",
    "B = np.array([0,1,1])\n",
    "C = np.array([100,0,0])\n",
    "print('A={0},B={1},C={2}'.format(A,B,C))\n",
    "print(\"歐式距離(A,B)= \",euclidean_distance(A,B))\n",
    "print(\"歐式距離(A,C)= \",euclidean_distance(A,C))\n",
    "print(\"cos距離(A,B)= \",cosine_similarity(A,B))\n",
    "print(\"cos距離(A,C)= \",cosine_similarity(A,C))\n"
   ]
  },
  {
   "cell_type": "code",
   "execution_count": 4,
   "metadata": {
    "ExecuteTime": {
     "end_time": "2023-06-12T11:37:06.875214Z",
     "start_time": "2023-06-12T11:37:06.834648500Z"
    }
   },
   "outputs": [
    {
     "name": "stdout",
     "output_type": "stream",
     "text": [
      "================================\n",
      "多維\n",
      "a=[1 0 0 0],b=[1 0 1 1],c=[1 1 1 1],d=[10  0  0  0]\n",
      "歐式距離(a,c)=  3.0\n",
      "歐式距離(b,c)=  1.0\n",
      "歐式距離(c,c)=  0.0\n",
      "歐式距離(a,d)=  9.0\n",
      "cos距離(a,c)=  0.5\n",
      "cos距離(b,c)=  0.8660254037844387\n",
      "cos距離(a,b)=  0.5773502691896258\n",
      "cos距離(a,d)=  1.0\n",
      "ab ac 哪個比較近(cos距離)?\n"
     ]
    }
   ],
   "source": [
    "print(\"================================\")\n",
    "print(\"多維\")\n",
    "a = np.array([1,0,0,0])\n",
    "b = np.array([1,0,1,1])\n",
    "c = np.array([1,1,1,1])\n",
    "d = np.array([10,0,0,0])\n",
    "print('a={0},b={1},c={2},d={3}'.format(a,b,c,d))\n",
    "print(\"歐式距離(a,c)= \",euclidean_distance(a,c))\n",
    "print(\"歐式距離(b,c)= \",euclidean_distance(b,c))\n",
    "print(\"歐式距離(c,c)= \",euclidean_distance(c,c))\n",
    "print(\"歐式距離(a,d)= \",euclidean_distance(a,d))\n",
    "print(\"cos距離(a,c)= \",cosine_similarity(a,c))\n",
    "print(\"cos距離(b,c)= \",cosine_similarity(b,c))\n",
    "print(\"cos距離(a,b)= \",cosine_similarity(a,b))\n",
    "print(\"cos距離(a,d)= \",cosine_similarity(a,d))\n",
    "print(\"ab ac 哪個比較近(cos距離)?\")"
   ]
  },
  {
   "cell_type": "markdown",
   "metadata": {},
   "source": [
    "## 補充Cosine Similarity (sklearn)"
   ]
  },
  {
   "cell_type": "code",
   "execution_count": 5,
   "metadata": {
    "ExecuteTime": {
     "end_time": "2023-06-12T11:37:15.537558Z",
     "start_time": "2023-06-12T11:37:09.529153300Z"
    }
   },
   "outputs": [
    {
     "ename": "AttributeError",
     "evalue": "module 'numpy' has no attribute '_no_nep50_warning'",
     "output_type": "error",
     "traceback": [
      "\u001B[1;31m---------------------------------------------------------------------------\u001B[0m",
      "\u001B[1;31mAttributeError\u001B[0m                            Traceback (most recent call last)",
      "Cell \u001B[1;32mIn[5], line 1\u001B[0m\n\u001B[1;32m----> 1\u001B[0m \u001B[38;5;28;01mfrom\u001B[39;00m \u001B[38;5;21;01msklearn\u001B[39;00m\u001B[38;5;21;01m.\u001B[39;00m\u001B[38;5;21;01mmetrics\u001B[39;00m\u001B[38;5;21;01m.\u001B[39;00m\u001B[38;5;21;01mpairwise\u001B[39;00m \u001B[38;5;28;01mimport\u001B[39;00m cosine_similarity\n\u001B[0;32m      3\u001B[0m \u001B[38;5;66;03m# Vectors\u001B[39;00m\n\u001B[0;32m      4\u001B[0m vec_a \u001B[38;5;241m=\u001B[39m [\u001B[38;5;241m1\u001B[39m, \u001B[38;5;241m2\u001B[39m, \u001B[38;5;241m3\u001B[39m, \u001B[38;5;241m4\u001B[39m, \u001B[38;5;241m5\u001B[39m]\n",
      "File \u001B[1;32m~\\.conda\\envs\\IMLP\\lib\\site-packages\\sklearn\\__init__.py:82\u001B[0m\n\u001B[0;32m     80\u001B[0m \u001B[38;5;28;01mfrom\u001B[39;00m \u001B[38;5;21;01m.\u001B[39;00m \u001B[38;5;28;01mimport\u001B[39;00m _distributor_init  \u001B[38;5;66;03m# noqa: F401\u001B[39;00m\n\u001B[0;32m     81\u001B[0m \u001B[38;5;28;01mfrom\u001B[39;00m \u001B[38;5;21;01m.\u001B[39;00m \u001B[38;5;28;01mimport\u001B[39;00m __check_build  \u001B[38;5;66;03m# noqa: F401\u001B[39;00m\n\u001B[1;32m---> 82\u001B[0m \u001B[38;5;28;01mfrom\u001B[39;00m \u001B[38;5;21;01m.\u001B[39;00m\u001B[38;5;21;01mbase\u001B[39;00m \u001B[38;5;28;01mimport\u001B[39;00m clone\n\u001B[0;32m     83\u001B[0m \u001B[38;5;28;01mfrom\u001B[39;00m \u001B[38;5;21;01m.\u001B[39;00m\u001B[38;5;21;01mutils\u001B[39;00m\u001B[38;5;21;01m.\u001B[39;00m\u001B[38;5;21;01m_show_versions\u001B[39;00m \u001B[38;5;28;01mimport\u001B[39;00m show_versions\n\u001B[0;32m     85\u001B[0m __all__ \u001B[38;5;241m=\u001B[39m [\n\u001B[0;32m     86\u001B[0m     \u001B[38;5;124m\"\u001B[39m\u001B[38;5;124mcalibration\u001B[39m\u001B[38;5;124m\"\u001B[39m,\n\u001B[0;32m     87\u001B[0m     \u001B[38;5;124m\"\u001B[39m\u001B[38;5;124mcluster\u001B[39m\u001B[38;5;124m\"\u001B[39m,\n\u001B[1;32m   (...)\u001B[0m\n\u001B[0;32m    128\u001B[0m     \u001B[38;5;124m\"\u001B[39m\u001B[38;5;124mshow_versions\u001B[39m\u001B[38;5;124m\"\u001B[39m,\n\u001B[0;32m    129\u001B[0m ]\n",
      "File \u001B[1;32m~\\.conda\\envs\\IMLP\\lib\\site-packages\\sklearn\\base.py:17\u001B[0m\n\u001B[0;32m     15\u001B[0m \u001B[38;5;28;01mfrom\u001B[39;00m \u001B[38;5;21;01m.\u001B[39;00m \u001B[38;5;28;01mimport\u001B[39;00m __version__\n\u001B[0;32m     16\u001B[0m \u001B[38;5;28;01mfrom\u001B[39;00m \u001B[38;5;21;01m.\u001B[39;00m\u001B[38;5;21;01m_config\u001B[39;00m \u001B[38;5;28;01mimport\u001B[39;00m get_config\n\u001B[1;32m---> 17\u001B[0m \u001B[38;5;28;01mfrom\u001B[39;00m \u001B[38;5;21;01m.\u001B[39;00m\u001B[38;5;21;01mutils\u001B[39;00m \u001B[38;5;28;01mimport\u001B[39;00m _IS_32BIT\n\u001B[0;32m     18\u001B[0m \u001B[38;5;28;01mfrom\u001B[39;00m \u001B[38;5;21;01m.\u001B[39;00m\u001B[38;5;21;01mutils\u001B[39;00m\u001B[38;5;21;01m.\u001B[39;00m\u001B[38;5;21;01m_set_output\u001B[39;00m \u001B[38;5;28;01mimport\u001B[39;00m _SetOutputMixin\n\u001B[0;32m     19\u001B[0m \u001B[38;5;28;01mfrom\u001B[39;00m \u001B[38;5;21;01m.\u001B[39;00m\u001B[38;5;21;01mutils\u001B[39;00m\u001B[38;5;21;01m.\u001B[39;00m\u001B[38;5;21;01m_tags\u001B[39;00m \u001B[38;5;28;01mimport\u001B[39;00m (\n\u001B[0;32m     20\u001B[0m     _DEFAULT_TAGS,\n\u001B[0;32m     21\u001B[0m )\n",
      "File \u001B[1;32m~\\.conda\\envs\\IMLP\\lib\\site-packages\\sklearn\\utils\\__init__.py:25\u001B[0m\n\u001B[0;32m     23\u001B[0m \u001B[38;5;28;01mfrom\u001B[39;00m \u001B[38;5;21;01m.\u001B[39;00m\u001B[38;5;21;01mdeprecation\u001B[39;00m \u001B[38;5;28;01mimport\u001B[39;00m deprecated\n\u001B[0;32m     24\u001B[0m \u001B[38;5;28;01mfrom\u001B[39;00m \u001B[38;5;21;01m.\u001B[39;00m\u001B[38;5;21;01mdiscovery\u001B[39;00m \u001B[38;5;28;01mimport\u001B[39;00m all_estimators\n\u001B[1;32m---> 25\u001B[0m \u001B[38;5;28;01mfrom\u001B[39;00m \u001B[38;5;21;01m.\u001B[39;00m\u001B[38;5;21;01mfixes\u001B[39;00m \u001B[38;5;28;01mimport\u001B[39;00m parse_version, threadpool_info\n\u001B[0;32m     26\u001B[0m \u001B[38;5;28;01mfrom\u001B[39;00m \u001B[38;5;21;01m.\u001B[39;00m\u001B[38;5;21;01m_estimator_html_repr\u001B[39;00m \u001B[38;5;28;01mimport\u001B[39;00m estimator_html_repr\n\u001B[0;32m     27\u001B[0m \u001B[38;5;28;01mfrom\u001B[39;00m \u001B[38;5;21;01m.\u001B[39;00m\u001B[38;5;21;01mvalidation\u001B[39;00m \u001B[38;5;28;01mimport\u001B[39;00m (\n\u001B[0;32m     28\u001B[0m     as_float_array,\n\u001B[0;32m     29\u001B[0m     assert_all_finite,\n\u001B[1;32m   (...)\u001B[0m\n\u001B[0;32m     38\u001B[0m     _is_arraylike_not_scalar,\n\u001B[0;32m     39\u001B[0m )\n",
      "File \u001B[1;32m~\\.conda\\envs\\IMLP\\lib\\site-packages\\sklearn\\utils\\fixes.py:19\u001B[0m\n\u001B[0;32m     17\u001B[0m \u001B[38;5;28;01mimport\u001B[39;00m \u001B[38;5;21;01mnumpy\u001B[39;00m \u001B[38;5;28;01mas\u001B[39;00m \u001B[38;5;21;01mnp\u001B[39;00m\n\u001B[0;32m     18\u001B[0m \u001B[38;5;28;01mimport\u001B[39;00m \u001B[38;5;21;01mscipy\u001B[39;00m\n\u001B[1;32m---> 19\u001B[0m \u001B[38;5;28;01mimport\u001B[39;00m \u001B[38;5;21;01mscipy\u001B[39;00m\u001B[38;5;21;01m.\u001B[39;00m\u001B[38;5;21;01mstats\u001B[39;00m\n\u001B[0;32m     20\u001B[0m \u001B[38;5;28;01mimport\u001B[39;00m \u001B[38;5;21;01mthreadpoolctl\u001B[39;00m\n\u001B[0;32m     22\u001B[0m \u001B[38;5;28;01mfrom\u001B[39;00m \u001B[38;5;21;01m.\u001B[39;00m\u001B[38;5;21;01mdeprecation\u001B[39;00m \u001B[38;5;28;01mimport\u001B[39;00m deprecated\n",
      "File \u001B[1;32m~\\.conda\\envs\\IMLP\\lib\\site-packages\\scipy\\stats\\__init__.py:485\u001B[0m\n\u001B[0;32m      1\u001B[0m \u001B[38;5;124;03m\"\"\"\u001B[39;00m\n\u001B[0;32m      2\u001B[0m \u001B[38;5;124;03m.. _statsrefmanual:\u001B[39;00m\n\u001B[0;32m      3\u001B[0m \n\u001B[1;32m   (...)\u001B[0m\n\u001B[0;32m    480\u001B[0m \n\u001B[0;32m    481\u001B[0m \u001B[38;5;124;03m\"\"\"\u001B[39;00m\n\u001B[0;32m    483\u001B[0m \u001B[38;5;28;01mfrom\u001B[39;00m \u001B[38;5;21;01m.\u001B[39;00m\u001B[38;5;21;01m_warnings_errors\u001B[39;00m \u001B[38;5;28;01mimport\u001B[39;00m (ConstantInputWarning, NearConstantInputWarning,\n\u001B[0;32m    484\u001B[0m                                DegenerateDataWarning, FitError)\n\u001B[1;32m--> 485\u001B[0m \u001B[38;5;28;01mfrom\u001B[39;00m \u001B[38;5;21;01m.\u001B[39;00m\u001B[38;5;21;01m_stats_py\u001B[39;00m \u001B[38;5;28;01mimport\u001B[39;00m \u001B[38;5;241m*\u001B[39m\n\u001B[0;32m    486\u001B[0m \u001B[38;5;28;01mfrom\u001B[39;00m \u001B[38;5;21;01m.\u001B[39;00m\u001B[38;5;21;01m_variation\u001B[39;00m \u001B[38;5;28;01mimport\u001B[39;00m variation\n\u001B[0;32m    487\u001B[0m \u001B[38;5;28;01mfrom\u001B[39;00m \u001B[38;5;21;01m.\u001B[39;00m\u001B[38;5;21;01mdistributions\u001B[39;00m \u001B[38;5;28;01mimport\u001B[39;00m \u001B[38;5;241m*\u001B[39m\n",
      "File \u001B[1;32m~\\.conda\\envs\\IMLP\\lib\\site-packages\\scipy\\stats\\_stats_py.py:37\u001B[0m\n\u001B[0;32m     35\u001B[0m \u001B[38;5;28;01mfrom\u001B[39;00m \u001B[38;5;21;01mnumpy\u001B[39;00m \u001B[38;5;28;01mimport\u001B[39;00m array, asarray, ma\n\u001B[0;32m     36\u001B[0m \u001B[38;5;28;01mfrom\u001B[39;00m \u001B[38;5;21;01mnumpy\u001B[39;00m\u001B[38;5;21;01m.\u001B[39;00m\u001B[38;5;21;01mlib\u001B[39;00m \u001B[38;5;28;01mimport\u001B[39;00m NumpyVersion\n\u001B[1;32m---> 37\u001B[0m \u001B[38;5;28;01mfrom\u001B[39;00m \u001B[38;5;21;01mnumpy\u001B[39;00m\u001B[38;5;21;01m.\u001B[39;00m\u001B[38;5;21;01mtesting\u001B[39;00m \u001B[38;5;28;01mimport\u001B[39;00m suppress_warnings\n\u001B[0;32m     39\u001B[0m \u001B[38;5;28;01mfrom\u001B[39;00m \u001B[38;5;21;01mscipy\u001B[39;00m\u001B[38;5;21;01m.\u001B[39;00m\u001B[38;5;21;01mspatial\u001B[39;00m\u001B[38;5;21;01m.\u001B[39;00m\u001B[38;5;21;01mdistance\u001B[39;00m \u001B[38;5;28;01mimport\u001B[39;00m cdist\n\u001B[0;32m     40\u001B[0m \u001B[38;5;28;01mfrom\u001B[39;00m \u001B[38;5;21;01mscipy\u001B[39;00m\u001B[38;5;21;01m.\u001B[39;00m\u001B[38;5;21;01mndimage\u001B[39;00m \u001B[38;5;28;01mimport\u001B[39;00m _measurements\n",
      "File \u001B[1;32m~\\.conda\\envs\\IMLP\\lib\\site-packages\\numpy\\testing\\__init__.py:11\u001B[0m\n\u001B[0;32m      8\u001B[0m \u001B[38;5;28;01mfrom\u001B[39;00m \u001B[38;5;21;01munittest\u001B[39;00m \u001B[38;5;28;01mimport\u001B[39;00m TestCase\n\u001B[0;32m     10\u001B[0m \u001B[38;5;28;01mfrom\u001B[39;00m \u001B[38;5;21;01m.\u001B[39;00m \u001B[38;5;28;01mimport\u001B[39;00m _private\n\u001B[1;32m---> 11\u001B[0m \u001B[38;5;28;01mfrom\u001B[39;00m \u001B[38;5;21;01m.\u001B[39;00m\u001B[38;5;21;01m_private\u001B[39;00m\u001B[38;5;21;01m.\u001B[39;00m\u001B[38;5;21;01mutils\u001B[39;00m \u001B[38;5;28;01mimport\u001B[39;00m \u001B[38;5;241m*\u001B[39m\n\u001B[0;32m     12\u001B[0m \u001B[38;5;28;01mfrom\u001B[39;00m \u001B[38;5;21;01m.\u001B[39;00m\u001B[38;5;21;01m_private\u001B[39;00m\u001B[38;5;21;01m.\u001B[39;00m\u001B[38;5;21;01mutils\u001B[39;00m \u001B[38;5;28;01mimport\u001B[39;00m (_assert_valid_refcount, _gen_alignment_data)\n\u001B[0;32m     13\u001B[0m \u001B[38;5;28;01mfrom\u001B[39;00m \u001B[38;5;21;01m.\u001B[39;00m\u001B[38;5;21;01m_private\u001B[39;00m \u001B[38;5;28;01mimport\u001B[39;00m extbuild, decorators \u001B[38;5;28;01mas\u001B[39;00m dec\n",
      "File \u001B[1;32m~\\.conda\\envs\\IMLP\\lib\\site-packages\\numpy\\testing\\_private\\utils.py:480\u001B[0m\n\u001B[0;32m    476\u001B[0m         pprint\u001B[38;5;241m.\u001B[39mpprint(desired, msg)\n\u001B[0;32m    477\u001B[0m         \u001B[38;5;28;01mraise\u001B[39;00m \u001B[38;5;167;01mAssertionError\u001B[39;00m(msg\u001B[38;5;241m.\u001B[39mgetvalue())\n\u001B[1;32m--> 480\u001B[0m \u001B[38;5;129m@np\u001B[39m\u001B[38;5;241;43m.\u001B[39;49m\u001B[43m_no_nep50_warning\u001B[49m()\n\u001B[0;32m    481\u001B[0m \u001B[38;5;28;01mdef\u001B[39;00m \u001B[38;5;21massert_almost_equal\u001B[39m(actual,desired,decimal\u001B[38;5;241m=\u001B[39m\u001B[38;5;241m7\u001B[39m,err_msg\u001B[38;5;241m=\u001B[39m\u001B[38;5;124m'\u001B[39m\u001B[38;5;124m'\u001B[39m,verbose\u001B[38;5;241m=\u001B[39m\u001B[38;5;28;01mTrue\u001B[39;00m):\n\u001B[0;32m    482\u001B[0m \u001B[38;5;250m    \u001B[39m\u001B[38;5;124;03m\"\"\"\u001B[39;00m\n\u001B[0;32m    483\u001B[0m \u001B[38;5;124;03m    Raises an AssertionError if two items are not equal up to desired\u001B[39;00m\n\u001B[0;32m    484\u001B[0m \u001B[38;5;124;03m    precision.\u001B[39;00m\n\u001B[1;32m   (...)\u001B[0m\n\u001B[0;32m    548\u001B[0m \n\u001B[0;32m    549\u001B[0m \u001B[38;5;124;03m    \"\"\"\u001B[39;00m\n\u001B[0;32m    550\u001B[0m     __tracebackhide__ \u001B[38;5;241m=\u001B[39m \u001B[38;5;28;01mTrue\u001B[39;00m  \u001B[38;5;66;03m# Hide traceback for py.test\u001B[39;00m\n",
      "File \u001B[1;32m~\\.conda\\envs\\IMLP\\lib\\site-packages\\numpy\\__init__.py:311\u001B[0m, in \u001B[0;36m__getattr__\u001B[1;34m(attr)\u001B[0m\n\u001B[0;32m    304\u001B[0m if attr in __former_attrs__:\n\u001B[0;32m    305\u001B[0m     raise AttributeError(__former_attrs__[attr])\n\u001B[0;32m    307\u001B[0m # Importing Tester requires importing all of UnitTest which is not a\n\u001B[0;32m    308\u001B[0m # cheap import Since it is mainly used in test suits, we lazy import it\n\u001B[0;32m    309\u001B[0m # here to save on the order of 10 ms of import time for most users\n\u001B[0;32m    310\u001B[0m #\n\u001B[1;32m--> 311\u001B[0m # The previous way Tester was imported also had a side effect of adding\n\u001B[0;32m    312\u001B[0m # the full `numpy.testing` namespace\n\u001B[0;32m    313\u001B[0m if attr == 'testing':\n\u001B[0;32m    314\u001B[0m     import numpy.testing as testing\n",
      "\u001B[1;31mAttributeError\u001B[0m: module 'numpy' has no attribute '_no_nep50_warning'"
     ]
    }
   ],
   "source": [
    "from sklearn.metrics.pairwise import cosine_similarity\n",
    "\n",
    "# Vectors\n",
    "vec_a = [1, 2, 3, 4, 5]\n",
    "vec_b = [1, 3, 5, 7, 9]\n",
    "\n",
    "# Dot and norm\n",
    "dot = sum(a*b for a, b in zip(vec_a, vec_b))\n",
    "norm_a = sum(a*a for a in vec_a) ** 0.5\n",
    "norm_b = sum(b*b for b in vec_b) ** 0.5\n",
    "\n",
    "# Cosine similarity\n",
    "cos_sim = dot / (norm_a*norm_b)\n",
    "\n",
    "# Results\n",
    "print('My version:', cos_sim)\n",
    "print('Scikit-Learn:', cosine_similarity([vec_a], [vec_b]))"
   ]
  },
  {
   "cell_type": "code",
   "execution_count": null,
   "metadata": {},
   "outputs": [],
   "source": []
  }
 ],
 "metadata": {
  "kernelspec": {
   "display_name": "Python 3",
   "language": "python",
   "name": "python3"
  },
  "language_info": {
   "codemirror_mode": {
    "name": "ipython",
    "version": 3
   },
   "file_extension": ".py",
   "mimetype": "text/x-python",
   "name": "python",
   "nbconvert_exporter": "python",
   "pygments_lexer": "ipython3",
   "version": "3.8.8"
  }
 },
 "nbformat": 4,
 "nbformat_minor": 4
}
